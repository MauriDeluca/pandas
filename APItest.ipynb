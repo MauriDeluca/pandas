{
  "nbformat": 4,
  "nbformat_minor": 0,
  "metadata": {
    "colab": {
      "name": "APItest.ipynb",
      "provenance": [],
      "collapsed_sections": [],
      "authorship_tag": "ABX9TyMIn0hN9NXF1X7dKJya+Rc2",
      "include_colab_link": true
    },
    "kernelspec": {
      "name": "python3",
      "display_name": "Python 3"
    }
  },
  "cells": [
    {
      "cell_type": "markdown",
      "metadata": {
        "id": "view-in-github",
        "colab_type": "text"
      },
      "source": [
        "<a href=\"https://colab.research.google.com/github/MauriDeluca/pandas/blob/master/APItest.ipynb\" target=\"_parent\"><img src=\"https://colab.research.google.com/assets/colab-badge.svg\" alt=\"Open In Colab\"/></a>"
      ]
    },
    {
      "cell_type": "code",
      "metadata": {
        "id": "7j3xCOeg7kIY",
        "outputId": "3c55398d-fa5d-4374-b320-aec2e6079adb",
        "colab": {
          "base_uri": "https://localhost:8080/",
          "height": 168
        }
      },
      "source": [
        "pip install newsapi-python"
      ],
      "execution_count": 1,
      "outputs": [
        {
          "output_type": "stream",
          "text": [
            "Collecting newsapi-python\n",
            "  Downloading https://files.pythonhosted.org/packages/de/9e/9050199ac7cbc755d1c49577fdaa5517901124b574264b3602a8b8028440/newsapi_python-0.2.6-py2.py3-none-any.whl\n",
            "Requirement already satisfied: requests<3.0.0 in /usr/local/lib/python3.6/dist-packages (from newsapi-python) (2.23.0)\n",
            "Requirement already satisfied: chardet<4,>=3.0.2 in /usr/local/lib/python3.6/dist-packages (from requests<3.0.0->newsapi-python) (3.0.4)\n",
            "Requirement already satisfied: idna<3,>=2.5 in /usr/local/lib/python3.6/dist-packages (from requests<3.0.0->newsapi-python) (2.10)\n",
            "Requirement already satisfied: urllib3!=1.25.0,!=1.25.1,<1.26,>=1.21.1 in /usr/local/lib/python3.6/dist-packages (from requests<3.0.0->newsapi-python) (1.24.3)\n",
            "Requirement already satisfied: certifi>=2017.4.17 in /usr/local/lib/python3.6/dist-packages (from requests<3.0.0->newsapi-python) (2020.6.20)\n",
            "Installing collected packages: newsapi-python\n",
            "Successfully installed newsapi-python-0.2.6\n"
          ],
          "name": "stdout"
        }
      ]
    },
    {
      "cell_type": "code",
      "metadata": {
        "id": "QqX--uSk_D_f"
      },
      "source": [
        "from newsapi import NewsApiClient\n",
        "newsapi = NewsApiClient(api_key='b180216e9318477eaeedc9c072a070ff')"
      ],
      "execution_count": 2,
      "outputs": []
    },
    {
      "cell_type": "code",
      "metadata": {
        "id": "MW8x_bFj_KnW"
      },
      "source": [
        "# /v2/top-headlines\n",
        "top_headlines = newsapi.get_top_headlines(q='coronavirus',\n",
        "                                          language='en',\n",
        "                                          country='us')"
      ],
      "execution_count": 31,
      "outputs": []
    },
    {
      "cell_type": "code",
      "metadata": {
        "id": "04JNnormCA7z",
        "outputId": "56f691e2-099c-4ba6-bd1d-d444b96295ad",
        "colab": {
          "base_uri": "https://localhost:8080/",
          "height": 54
        }
      },
      "source": [
        "print(top_headlines)"
      ],
      "execution_count": 32,
      "outputs": [
        {
          "output_type": "stream",
          "text": [
            "{'status': 'ok', 'totalResults': 2, 'articles': [{'source': {'id': None, 'name': 'Anchorage Daily News'}, 'author': 'Emily Goodykoontz', 'title': \"Following mayor's resignation, Anchorage Assembly extends COVID-19 emergency declaration to Nov. 30 - Anchorage Daily News\", 'description': 'The original motion would have extended the emergency declaration through the end of December, but the Assembly made clear it will seek other ways to address the coronavirus pandemic.', 'url': 'https://www.adn.com/alaska-news/anchorage/2020/10/13/following-mayors-resignation-anchorage-assembly-extends-covid-19-emergency-declaration-to-nov-30/', 'urlToImage': 'https://www.adn.com/resizer/LG5TeZJmqSsMfZYW7P6DUBhCLTg=/1200x0/cloudfront-us-east-1.images.arcpublishing.com/adn/6DM54RG4IVHJFB23E5CSAA3LOE.JPG', 'publishedAt': '2020-10-14T04:25:13Z', 'content': \"We're making this important information about the pandemic available without a subscription as a public service. But we depend on reader support to do this work. Please consider joining others in sup… [+4239 chars]\"}, {'source': {'id': 'cnn', 'name': 'CNN'}, 'author': 'Caroline Kelly', 'title': \"Pelosi defends rejecting White House's stimulus proposal: Americans' 'needs are not addressed in the President's proposal' - CNN\", 'description': \"House Speaker Nancy Pelosi on Tuesday slammed the White House's most recent stimulus proposal as ignoring key economic issues wrought by the coronavirus pandemic, defending her decision to turn down what she described as a political stunt that would fail to h…\", 'url': 'https://www.cnn.com/2020/10/13/politics/pelosi-stimulus-situation-room-cnntv/index.html', 'urlToImage': 'https://cdn.cnn.com/cnnnext/dam/assets/201013175114-wolf-blitzer-nancy-pelosi-split-super-tease.jpg', 'publishedAt': '2020-10-13T23:40:00Z', 'content': \"(CNN)House Speaker Nancy Pelosi on Tuesday slammed the White House's most recent stimulus proposal as ignoring key economic issues wrought by the coronavirus pandemic, defending her decision to turn … [+3532 chars]\"}]}\n"
          ],
          "name": "stdout"
        }
      ]
    },
    {
      "cell_type": "markdown",
      "metadata": {
        "id": "Q7FUnV0EMGcG"
      },
      "source": [
        ""
      ]
    },
    {
      "cell_type": "code",
      "metadata": {
        "id": "_smSsSghHp1_"
      },
      "source": [
        "all_articles = newsapi.get_everything(q='coronavirus',\n",
        "                                      sources='bbc-news',\n",
        "                                      domains='bbc.co.uk',\n",
        "                                      from_param='2020-10-01',\n",
        "                                      to='2020-10-14',\n",
        "                                      language='en',\n",
        "                                      sort_by='relevancy',\n",
        "                                      page=5)"
      ],
      "execution_count": 24,
      "outputs": []
    },
    {
      "cell_type": "code",
      "metadata": {
        "id": "o92u5JHSJId8",
        "outputId": "4e3da7be-2536-4501-f602-45836003928d",
        "colab": {
          "base_uri": "https://localhost:8080/",
          "height": 54
        }
      },
      "source": [
        "print(all_articles)"
      ],
      "execution_count": 25,
      "outputs": [
        {
          "output_type": "stream",
          "text": [
            "{'status': 'ok', 'totalResults': 702, 'articles': [{'source': {'id': 'bbc-news', 'name': 'BBC News'}, 'author': None, 'title': 'Sadio Mane: Liverpool forward isolating after positive coronavirus test', 'description': 'Liverpool forward Sadio Mane tests positive for coronavirus and joins midfielder Thiago Alcantara in self-isolating.', 'url': 'https://www.bbc.co.uk/sport/football/54396525', 'urlToImage': 'https://ichef.bbci.co.uk/live-experience/cps/624/cpsprodpb/13590/production/_97584297_breaking_news.png', 'publishedAt': '2020-10-02T21:00:39Z', 'content': 'How to get into football - the most popular sport in the world, with clubs and facilities throughout the UK.'}, {'source': {'id': 'bbc-news', 'name': 'BBC News'}, 'author': None, 'title': 'Paris-Roubaix: Cycling classic cancelled due to coronavirus', 'description': 'The prestigious Paris-Roubaix, due to be held later this month, is cancelled because of the coronavirus pandemic.', 'url': 'https://www.bbc.co.uk/sport/cycling/54477425', 'urlToImage': 'https://ichef.bbci.co.uk/live-experience/cps/624/cpsprodpb/2988/production/_114823601_gettyimages-1142810677.jpg', 'publishedAt': '2020-10-09T09:50:05Z', 'content': \"Gilbert triumphed in last year's race\\r\\nThis month's prestigious Paris-Roubaix race has been cancelled because of the coronavirus pandemic.\\r\\nIt was due to be held on 25 October, having already been po… [+477 chars]\"}, {'source': {'id': 'bbc-news', 'name': 'BBC News'}, 'author': 'https://www.facebook.com/bbcnews', 'title': 'US election 2020: Who do Russia, China and Iran want to win?', 'description': \"US intelligence say the three are trying to interfere in November's vote but their aims differ.\", 'url': 'https://www.bbc.co.uk/news/election-us-2020-54293489', 'urlToImage': 'https://ichef.bbci.co.uk/news/1024/branded_news/5B90/production/_114604432_mediaitem114604431.jpg', 'publishedAt': '2020-10-04T23:42:22Z', 'content': 'Image copyrightReuters\\r\\nWill the Kremlin be trying to \"Keep America Great\"? Is Beijing rooting for Biden? \\r\\nThese questions are on the minds of the US intelligence community in the run-up to November… [+9647 chars]'}, {'source': {'id': 'bbc-news', 'name': 'BBC News'}, 'author': 'https://www.facebook.com/bbcnews', 'title': 'Covid-19: Chinese trade grows as others struggle amid pandemic', 'description': 'Exports in September rose 9.9%, while other major economies struggle with the impact of Covid-19.', 'url': 'https://www.bbc.co.uk/news/business-54522845', 'urlToImage': 'https://ichef.bbci.co.uk/news/1024/branded_news/AA4E/production/_114889534_gettyimages-1279975268.jpg', 'publishedAt': '2020-10-13T15:56:11Z', 'content': 'image copyrightGetty Images\\r\\nChina has recorded strong growth in trade, while other major economies still struggle with the impact of coronavirus.\\r\\nExports in September rose 9.9%, while imports grew … [+2225 chars]'}, {'source': {'id': 'bbc-news', 'name': 'BBC News'}, 'author': None, 'title': 'Turkish Grand Prix: Plans for fans to attend scrapped amid rising coronavirus cases', 'description': \"Organisers of the Turkish Grand Prix abandon plans to invite fans to November's race because of the coronavirus pandemic.\", 'url': 'https://www.bbc.co.uk/sport/formula1/54422223', 'urlToImage': 'https://ichef.bbci.co.uk/live-experience/cps/624/cpsprodpb/7FBB/production/_114099623_turkey.jpg', 'publishedAt': '2020-10-05T13:19:18Z', 'content': \"Sebastian Vettel won the last Turkish Grand Prix for Red Bull in 2011\\r\\nOrganisers of the Turkish Grand Prix have abandoned plans to invite fans to November's race because of Covid-19.\\r\\nA statement fr… [+1294 chars]\"}, {'source': {'id': 'bbc-news', 'name': 'BBC News'}, 'author': None, 'title': \"Snow-covered mountains await epic battle of the Britons - Giro d'Italia preview\", 'description': \"Geraint Thomas' battle with Simon Yates in a three-week Grand Tour in which they must cover nearly 3,500km across Italy will be a fascinating spectacle.\", 'url': 'https://www.bbc.co.uk/sport/cycling/54395179', 'urlToImage': \"https://ichef.bbci.co.uk/live-experience/cps/624/cpsprodpb/5995/production/_114733922_girod'italia.jpg\", 'publishedAt': '2020-10-02T23:00:11Z', 'content': \"Simon Yates won the 2018 Vuelta a Espana\\r\\nBritain doesn't really do snow. Everything just seems to grind to a halt. \\r\\nWe can't drive anywhere, or use public transport cycling seems like an even riski… [+7657 chars]\"}, {'source': {'id': 'bbc-news', 'name': 'BBC News'}, 'author': None, 'title': 'Aston Villa Women: Two games postponed as player tests positive for Covid-19', 'description': \"Aston Villa's next two Women's Super League games are postponed after a first-team squad member tests positive for coronavirus.\", 'url': 'https://www.bbc.co.uk/sport/football/54479013', 'urlToImage': 'https://ichef.bbci.co.uk/live-experience/cps/624/cpsprodpb/B75E/production/_114824964_villa.jpg', 'publishedAt': '2020-10-09T10:48:44Z', 'content': \"Aston Villa were promoted to the Women's Super League as Championship winners last term\\r\\nAston Villa's next two Women's Super League games have been postponed after a first-team squad member tested p… [+905 chars]\"}, {'source': {'id': 'bbc-news', 'name': 'BBC News'}, 'author': None, 'title': 'National League Dagenham & Redbridge and the financial impact of coronavirus', 'description': \"Football Focus' Mark Clemmit visits National League side Dagenham & Redbridge to hear how halting the return of fans has put the future of football clubs at risk.\", 'url': 'https://www.bbc.co.uk/sport/av/football/54395904', 'urlToImage': 'https://ichef.bbci.co.uk/live-experience/cps/624/cpsprodpb/138A1/production/_114733008_p08t6tyt.jpg', 'publishedAt': '2020-10-03T06:08:28Z', 'content': \"Football Focus' Mark Clemmit visits National League side Dagenham &amp; Redbridge to hear how halting the return of fans has put the future of football clubs at risk.\\r\\nWatch Football Focus, Saturday … [+76 chars]\"}, {'source': {'id': 'bbc-news', 'name': 'BBC News'}, 'author': None, 'title': 'Premier League coronavirus testing: Five positive results from 1,128 tests', 'description': 'The Premier League confirms there have been five positive results from the latest round of coronavirus testing.', 'url': 'https://www.bbc.co.uk/sport/football/54517184', 'urlToImage': 'https://ichef.bbci.co.uk/live-experience/cps/624/cpsprodpb/08A7/production/_112751220_gettyimages-1223636884.jpg', 'publishedAt': '2020-10-12T18:18:42Z', 'content': 'The latest figure is four fewer positive test than the previous round of testing\\r\\nThe Premier League says there has been five positive results from the latest round of coronavirus testing.\\r\\nThere wer… [+330 chars]'}, {'source': {'id': 'bbc-news', 'name': 'BBC News'}, 'author': None, 'title': 'Super League: Hull KR 24-22 Salford Red Devils', 'description': 'Hull KR edge past Salford Red Devils in Super League after kick-off is delayed as both clubs awaited coronavirus results.', 'url': 'https://www.bbc.co.uk/sport/rugby-league/54501841', 'urlToImage': 'https://ichef.bbci.co.uk/live-experience/cps/624/cpsprodpb/CC0F/production/_114893225_sw15_hullkrvsalford.jpg', 'publishedAt': '2020-10-13T16:08:19Z', 'content': \"Hull KR's Mikey Lewis scored his first professional tries\\r\\n<table><tr><th>Betfred Super League</th></tr>\\r\\n<tr><td>Hull KR (12) 24</td></tr><tr><td>Tries: Lewis 2, Crooks, Abdull Goals: Ellis 4</td></… [+2104 chars]\"}, {'source': {'id': 'bbc-news', 'name': 'BBC News'}, 'author': 'https://www.facebook.com/bbcnews', 'title': \"Trump Covid: Biden warns there is 'a lot to be concerned about'\", 'description': 'The Democratic presidential nominee criticises Donald Trump for downplaying Covid-19.', 'url': 'https://www.bbc.co.uk/news/election-us-2020-54437852', 'urlToImage': 'https://ichef.bbci.co.uk/images/ic/1024x576/p08tgz72.jpg', 'publishedAt': '2020-10-06T14:48:22Z', 'content': 'Media caption\"Now I\\'m better, and maybe I\\'m immune\": Trump\\'s controversial return to the White House\\r\\nDemocratic presidential nominee Joe Biden has criticised US President Donald Trump for downplayin… [+8519 chars]'}, {'source': {'id': 'bbc-news', 'name': 'BBC News'}, 'author': None, 'title': 'Neil Warnock: Middlesbrough boss warns of Covid-19 danger after recovering from coronavirus', 'description': 'Middlesbrough boss Neil Warnock wants the public to fully appreciate the coronavirus risk, having contracted the virus.', 'url': 'https://www.bbc.co.uk/sport/football/54374687', 'urlToImage': 'https://ichef.bbci.co.uk/live-experience/cps/624/cpsprodpb/11513/production/_114713907_gettyimages-1271969112.jpg', 'publishedAt': '2020-10-01T13:41:29Z', 'content': 'Neil Warnock was appointed as Middlesbrough boss in the closing weeks of last season\\r\\nMiddlesbrough boss Neil Warnock wants the public to fully appreciate the seriousness of coronavirus, having recov… [+1549 chars]'}, {'source': {'id': 'bbc-news', 'name': 'BBC News'}, 'author': 'https://www.facebook.com/bbcnews', 'title': 'Covid-19: NHS tests threatened by Roche supply chain failing - BBC News', 'description': 'Covid-19: NHS tests threatened by Roche supply chain failing\\xa0\\xa0BBC NewsView Full coverage on Google News', 'url': 'https://www.bbc.co.uk/news/health-54435226', 'urlToImage': 'https://ichef.bbci.co.uk/news/1024/branded_news/61A6/production/_114789942_gettyimages-1148110090-1.jpg', 'publishedAt': '2020-10-06T20:05:01Z', 'content': 'Image copyrightGetty Images\\r\\nCoronavirus swabs and other key NHS tests are under threat after a supply chain failure at a major diagnostics company. \\r\\nSwiss pharmaceutical firm Roche said problems du… [+2188 chars]'}, {'source': {'id': 'bbc-news', 'name': 'BBC News'}, 'author': None, 'title': \"Clean ears and eye exercises - the secrets behind the world's best umpire\", 'description': 'From retiring as a player at 23 to becoming the finest umpire in the world, Michael Gough discusses his unusual path to the top.', 'url': 'https://www.bbc.co.uk/sport/cricket/54464650', 'urlToImage': 'https://ichef.bbci.co.uk/live-experience/cps/624/cpsprodpb/111AD/production/_114816007_michael_gough_getty.jpg', 'publishedAt': '2020-10-09T11:05:34Z', 'content': \"Michael Gough (right) has stood in 18 Tests, 63 one-day-internationals and 14 Twenty20 internationals\\r\\nWhat's the secret to being the best umpire in the world?\\r\\nCleaning your ears, according to Micha… [+4187 chars]\"}, {'source': {'id': 'bbc-news', 'name': 'BBC News'}, 'author': 'https://www.facebook.com/bbcnews', 'title': 'World Food Programme: What is the UN body and what does it do?', 'description': 'The WFP has been awarded the 2020 Nobel Peace Prize for its work to eradicate hunger and build peace.', 'url': 'https://www.bbc.co.uk/news/world-54477214', 'urlToImage': 'https://ichef.bbci.co.uk/news/1024/branded_news/189F/production/_114830360_hi063741981.jpg', 'publishedAt': '2020-10-09T17:36:26Z', 'content': \"Image copyrightReutersImage caption\\r\\n The WFP said it provided assistance to 97 million people last year\\r\\nThis year's Nobel Peace Prize has been awarded to the United Nations World Food Programme (WF… [+4189 chars]\"}, {'source': {'id': 'bbc-news', 'name': 'BBC News'}, 'author': 'https://www.facebook.com/bbcnews', 'title': \"Did El Salvador's government make a deal with gangs?\", 'description': 'A journal says it has seen documents which show the government entered into a pact with gangs.', 'url': 'https://www.bbc.co.uk/news/world-latin-america-54192736', 'urlToImage': 'https://ichef.bbci.co.uk/news/1024/branded_news/137E2/production/_114424897_tv063176295.jpg', 'publishedAt': '2020-10-02T23:34:27Z', 'content': \"By Will GrantBBC Central America correspondent\\r\\nimage captionEl Salvador's government wants to show it has not given any special treatment to gang members\\r\\nEl Salvador's jailed gang members will see … [+5801 chars]\"}, {'source': {'id': 'bbc-news', 'name': 'BBC News'}, 'author': None, 'title': \"Juventus v Napoli: Coronavirus cases put Sunday's Serie A game in doubt\", 'description': \"The Serie A game between Juventus and Napoli on Sunday is in doubt after two of the latter side's player tested positive for coronavirus.\", 'url': 'https://www.bbc.co.uk/sport/football/54408861', 'urlToImage': 'https://ichef.bbci.co.uk/live-experience/cps/624/cpsprodpb/130E6/production/_114745087_gettyimages-1228769973.jpg', 'publishedAt': '2020-10-04T14:37:27Z', 'content': \"Juventus say their team will line up for Sunday's game against Napoli as planned\\r\\nThe Serie A game between Juventus and Napoli on Sunday is in doubt after two of the latter side's player tested posit… [+1265 chars]\"}, {'source': {'id': 'bbc-news', 'name': 'BBC News'}, 'author': 'https://www.facebook.com/bbcnews', 'title': 'Trump Covid: US president has mild symptoms - White House', 'description': 'The US president and his wife have tested positive for the virus, a month before elections.', 'url': 'https://www.bbc.co.uk/news/world-us-canada-54391986', 'urlToImage': 'https://ichef.bbci.co.uk/news/1024/branded_news/13300/production/_114729587_063638962-1.jpg', 'publishedAt': '2020-10-02T15:24:54Z', 'content': \"Image copyrightReuters\\r\\nUS President Donald Trump has mild symptoms of coronavirus after he and his wife Melania tested positive for the illness, the White House says.\\r\\nMr Trump's chief of staff said… [+5416 chars]\"}, {'source': {'id': 'bbc-news', 'name': 'BBC News'}, 'author': 'https://www.facebook.com/bbcnews', 'title': 'US election 2020: Trump ready to return to public events, says doctor', 'description': \"A White House physician anticipates the president's safe return to public engagements this Saturday.\", 'url': 'https://www.bbc.co.uk/news/election-us-2020-54472975', 'urlToImage': 'https://ichef.bbci.co.uk/news/1024/branded_news/5656/production/_114820122_hi063722338.jpg', 'publishedAt': '2020-10-09T01:17:32Z', 'content': 'Image copyrightReutersImage caption\\r\\n President Trump is said to have responded \"extremely well\" to his Covid treatment\\r\\nUS President Donald Trump has completed his course of treatment for Covid-19 a… [+4806 chars]'}, {'source': {'id': 'bbc-news', 'name': 'BBC News'}, 'author': 'https://www.facebook.com/bbcnews', 'title': 'The woman who wants everyone to get a pension', 'description': 'Romi Savova is the founder and chief executive of pension firm PensionBee.', 'url': 'https://www.bbc.co.uk/news/business-54370026', 'urlToImage': 'https://ichef.bbci.co.uk/news/1024/branded_news/1050F/production/_114713866_romi-s.jpg', 'publishedAt': '2020-10-04T23:07:54Z', 'content': \"Image copyrightPensionBeeImage caption\\r\\n Romi came up with the idea for the business after her own frustrations with the pensions industry\\r\\nThe BBC's weekly The Boss series profiles different busines… [+5425 chars]\"}]}\n"
          ],
          "name": "stdout"
        }
      ]
    },
    {
      "cell_type": "code",
      "metadata": {
        "id": "IWuwXr-nEltV",
        "outputId": "1b5bbdaa-9bd8-4878-bc3e-2ae66faa3ab0",
        "colab": {
          "base_uri": "https://localhost:8080/",
          "height": 34
        }
      },
      "source": [
        "print(all_articles[\"articles\"])"
      ],
      "execution_count": 35,
      "outputs": [
        {
          "output_type": "stream",
          "text": [
            "8\n"
          ],
          "name": "stdout"
        }
      ]
    },
    {
      "cell_type": "code",
      "metadata": {
        "id": "ajWMOdZGRExo"
      },
      "source": [
        "articles = all_articles[\"articles\"]"
      ],
      "execution_count": 28,
      "outputs": []
    },
    {
      "cell_type": "code",
      "metadata": {
        "id": "zr_VeNSgNQhe"
      },
      "source": [
        "import pandas as pd\n",
        "df = pd.DataFrame(articles)"
      ],
      "execution_count": 29,
      "outputs": []
    },
    {
      "cell_type": "code",
      "metadata": {
        "id": "O_PQrE0ZFBrk",
        "outputId": "57a990c2-c47d-4c01-b64c-2c5d157fb19e",
        "colab": {
          "base_uri": "https://localhost:8080/",
          "height": 34
        }
      },
      "source": [
        "len(df)"
      ],
      "execution_count": 30,
      "outputs": [
        {
          "output_type": "execute_result",
          "data": {
            "text/plain": [
              "20"
            ]
          },
          "metadata": {
            "tags": []
          },
          "execution_count": 30
        }
      ]
    },
    {
      "cell_type": "code",
      "metadata": {
        "id": "8750qPnAQ0QE"
      },
      "source": [
        "pd.set_option('display.max_colwidth', -1 )\n",
        "df"
      ],
      "execution_count": null,
      "outputs": []
    },
    {
      "cell_type": "code",
      "metadata": {
        "id": "f5JhU1hsYvhu"
      },
      "source": [
        "test = newsapi.get_everything(q='borussia dortmund',\n",
        "                                      from_param = \"2020-10-01\",\n",
        "                                      language='de',\n",
        "                                      page=5)"
      ],
      "execution_count": 11,
      "outputs": []
    },
    {
      "cell_type": "code",
      "metadata": {
        "id": "bUwTDwWOeXB4"
      },
      "source": [
        "test"
      ],
      "execution_count": null,
      "outputs": []
    },
    {
      "cell_type": "code",
      "metadata": {
        "id": "EwYLFq8Ibrdz"
      },
      "source": [
        "articles1= test[\"articles\"]"
      ],
      "execution_count": 13,
      "outputs": []
    },
    {
      "cell_type": "markdown",
      "metadata": {
        "id": "QQEo49MO0n6_"
      },
      "source": [
        "## Why show only 20?"
      ]
    },
    {
      "cell_type": "code",
      "metadata": {
        "id": "EIZwaA4ech8g",
        "outputId": "502e7e5b-fc6e-4ed3-92ee-f9b572c9829e",
        "colab": {
          "base_uri": "https://localhost:8080/",
          "height": 1000
        }
      },
      "source": [
        "df1 = pd.DataFrame(test)\n",
        "df1"
      ],
      "execution_count": 14,
      "outputs": [
        {
          "output_type": "execute_result",
          "data": {
            "text/html": [
              "<div>\n",
              "<style scoped>\n",
              "    .dataframe tbody tr th:only-of-type {\n",
              "        vertical-align: middle;\n",
              "    }\n",
              "\n",
              "    .dataframe tbody tr th {\n",
              "        vertical-align: top;\n",
              "    }\n",
              "\n",
              "    .dataframe thead th {\n",
              "        text-align: right;\n",
              "    }\n",
              "</style>\n",
              "<table border=\"1\" class=\"dataframe\">\n",
              "  <thead>\n",
              "    <tr style=\"text-align: right;\">\n",
              "      <th></th>\n",
              "      <th>status</th>\n",
              "      <th>totalResults</th>\n",
              "      <th>articles</th>\n",
              "    </tr>\n",
              "  </thead>\n",
              "  <tbody>\n",
              "    <tr>\n",
              "      <th>0</th>\n",
              "      <td>ok</td>\n",
              "      <td>684</td>\n",
              "      <td>{'source': {'id': None, 'name': 'N-tv.de'}, 'author': 'n-tv NACHRICHTEN', 'title': '\"Dinge, die nur die Bayern tun\": FC Bayern klärt M-Frage besser als der BVB', 'description': 'Bei Borussia Dortmund sorgt die \"M-Frage\"  regelmäßig für viel Ärger. Führungspersonal des chronischen Vizemeisters schimpfte einst auf den \"mentalitätsscheiß\", der damit gemeint sei. Beim FC Bayern gibt es auch eine \"M-Frage\". Der Rekordmeister stellt sich i…', 'url': 'https://www.n-tv.de/sport/fussball/FC-Bayern-klaert-M-Frage-besser-als-der-BVB-article22077854.html', 'urlToImage': 'https://bilder4.n-tv.de/img/incoming/crop22077871/3581327875-cImg_16_9-w1200/imago0048631290h.jpg', 'publishedAt': '2020-10-05T00:37:34Z', 'content': 'Bei Borussia Dortmund sorgt die \"M-Frage\" regelmäßig für viel Ärger. Führungspersonal des chronischen Vizemeisters schimpfte einst auf den \"mentalitätsscheiß\", der damit gemeint sei. Beim FC Bayern g… [+5789 chars]'}</td>\n",
              "    </tr>\n",
              "    <tr>\n",
              "      <th>1</th>\n",
              "      <td>ok</td>\n",
              "      <td>684</td>\n",
              "      <td>{'source': {'id': None, 'name': 'kicker'}, 'author': 'kicker', 'title': 'Sportfreunde Lotte verstärken sich mit Aydinel', 'description': 'Die Sportfreunde Lotte sind noch einmal auf dem Transfermarkt tätig geworden und haben sich die Dienste von Offensivmann Emre Aydinel gesichert.', 'url': 'https://www.kicker.de/sportfreunde-lotte-verstaerken-sich-mit-aydinel-786250/artikel', 'urlToImage': 'https://derivates.kicker.de/image/upload/w_4674,h_2629,g_auto:subject,c_fill,c_crop/w_1000,h_563,q_auto/cy5fh6apvrqnfmzhmf9j.jpg', 'publishedAt': '2020-10-02T21:16:00Z', 'content': 'Die Sportfreunde Lotte sind noch einmal auf dem Transfermarkt tätig geworden und haben sich die Dienste von Offensivmann Emre Aydinel gesichert. \r\n",
              " Aydinel hat bereits in den letzten zwei Wochen am T… [+871 chars]'}</td>\n",
              "    </tr>\n",
              "    <tr>\n",
              "      <th>2</th>\n",
              "      <td>ok</td>\n",
              "      <td>684</td>\n",
              "      <td>{'source': {'id': None, 'name': 'N-tv.de'}, 'author': 'n-tv NACHRICHTEN', 'title': 'DFB-Coach nominiert Riesenkader: Löw überrascht mit Dahoud und Hofmann', 'description': 'Der Bundestrainer freut sich über die Rückkehr von neun zuletzt geschonten Stars. Für den anstehenden Länderspiel-Dreierpack der deutschen Fußball-Nationalmannschaft sorgt Joachim Löw indes auch für zwei Überraschungen. Vier Dauergäste des DFB-Teams müssen al…', 'url': 'https://www.n-tv.de/sport/fussball/Loew-ueberrascht-mit-Dahoud-und-Hofmann-article22073930.html', 'urlToImage': 'https://bilder3.n-tv.de/img/incoming/crop22073926/3621321583-cImg_16_9-w1200/imago0048562674h.jpg', 'publishedAt': '2020-10-02T09:18:07Z', 'content': 'Der Bundestrainer freut sich über die Rückkehr von neun zuletzt geschonten Stars. Für den anstehenden Länderspiel-Dreierpack der deutschen Fußball-Nationalmannschaft sorgt Joachim Löw indes auch für … [+2681 chars]'}</td>\n",
              "    </tr>\n",
              "    <tr>\n",
              "      <th>3</th>\n",
              "      <td>ok</td>\n",
              "      <td>684</td>\n",
              "      <td>{'source': {'id': None, 'name': 'mobiFlip.de'}, 'author': 'René Hesse', 'title': 'Sky Q: Diese UHD-Inhalte gibt es im Oktober', 'description': 'Auf Sky Q landen auch im Oktober wieder verschiedene Inhalte in Ultra-HD-Auflösung. Diese hat Sky heute mitgeteilt. Um die Sky-Programme in UHD zu sehen, benötigen […]', 'url': 'https://www.mobiflip.de/shortnews/sky-q-uhd-10-2020/', 'urlToImage': 'https://i0.wp.com/www.mobiflip.de/wp-content/uploads/2020/03/sky-logo.jpg?fit=1200%2C700&amp;ssl=1', 'publishedAt': '2020-10-01T08:55:28Z', 'content': 'Auf Sky Q landen auch im Oktober wieder verschiedene Inhalte in Ultra-HD-Auflösung. Diese hat Sky heute mitgeteilt.\r\n",
              "Um die Sky-Programme in UHD zu sehen, benötigen Kunden einen 4K-tauglichen Fernseh… [+2462 chars]'}</td>\n",
              "    </tr>\n",
              "    <tr>\n",
              "      <th>4</th>\n",
              "      <td>ok</td>\n",
              "      <td>684</td>\n",
              "      <td>{'source': {'id': None, 'name': 'N-tv.de'}, 'author': 'n-tv NACHRICHTEN', 'title': 'Wolfsburg kommt nicht in Schwung: FC Augsburg mischt die Tabellenspitze auf', 'description': 'RB Leipzig, Borussia Dortmund - diese beiden Klubs sind ganz oben in der Fußball-Bundesliga zu erwarten. Aber der FC Augsburg? Ja, die bayerischen Schwaben sind tatsächlich Zweiter. Dass das Team sich auch gegen den VfL Wolfsburg behauptet, dürfte Trainer Hei…', 'url': 'https://www.n-tv.de/sport/fussball/FC-Augsburg-mischt-die-Tabellenspitze-auf-article22077640.html', 'urlToImage': 'https://bilder4.n-tv.de/img/incoming/crop22077639/5941327026-cImg_16_9-w1200/667fb48e6c6d6c7814c13e97f7c92bcf.jpg', 'publishedAt': '2020-10-04T15:25:07Z', 'content': 'RB Leipzig, Borussia Dortmund - diese beiden Klubs sind ganz oben in der Fußball-Bundesliga zu erwarten. Aber der FC Augsburg? Ja, die bayerischen Schwaben sind tatsächlich Zweiter. Dass das Team sic… [+2162 chars]'}</td>\n",
              "    </tr>\n",
              "    <tr>\n",
              "      <th>5</th>\n",
              "      <td>ok</td>\n",
              "      <td>684</td>\n",
              "      <td>{'source': {'id': None, 'name': 'N-tv.de'}, 'author': 'n-tv NACHRICHTEN', 'title': 'DFB-Coach nominiert Riesenkader: Löw überrascht mit Dahoud und Hofmann', 'description': 'Der Bundestrainer freut sich über die Rückkehr von neun zuletzt geschonten Stars. Für den anstehenden Länderspiel-Dreierpack der deutschen Fußball-Nationalmannschaft sorgt Joachim Löw indes auch für zwei Überraschungen. Vier Dauergäste des DFB-Teams müssen al…', 'url': 'https://www.n-tv.de/sport/fussball/Loew-ueberrascht-mit-zwei-Debuetanten-article22073930.html', 'urlToImage': 'https://bilder3.n-tv.de/img/incoming/crop22073926/3621321583-cImg_16_9-w1200/imago0048562674h.jpg', 'publishedAt': '2020-10-02T09:18:07Z', 'content': 'Der Bundestrainer freut sich über die Rückkehr von neun zuletzt geschonten Stars. Für den anstehenden Länderspiel-Dreierpack der deutschen Fußball-Nationalmannschaft sorgt Joachim Löw indes auch für … [+2681 chars]'}</td>\n",
              "    </tr>\n",
              "    <tr>\n",
              "      <th>6</th>\n",
              "      <td>ok</td>\n",
              "      <td>684</td>\n",
              "      <td>{'source': {'id': None, 'name': 'Transfermarkt'}, 'author': 'redaktion@transfermarkt.de (Redaktion Transfermarkt)', 'title': 'BVB verleiht Marius Wolf erneut: 1. FC Köln erhält Zuschlag', 'description': 'Der 1.FC Köln hat sich die Dienste von Marius Wolf gesichert. Der 25-jährige Rechtsaußen, der in der vergangenen Spielzeit leihweise für Hertha BSC spielte, kommt für eine...', 'url': 'https://www.transfermarkt.de/bvb-verleiht-wolf-erneut-1-fc-koln-erhalt-zuschlag-ndash-bdquo-passt-genau-in-unser-profil-ldquo-/view/news/371922', 'urlToImage': 'https://tmssl.akamaized.net/images/foto/big/marius-wolf-trifft-fur-hertha-bsc-1571855892-26845.jpg', 'publishedAt': '2020-10-02T12:25:14Z', 'content': 'Der 1.FC Köln hat sich die Dienste von Marius Wolf gesichert. Der 25-jährige Rechtsaußen, der in der vergangenen Spielzeit leihweise für Hertha BSC spielte, kommt für eine Saison von Borussia Dortmun… [+1258 chars]'}</td>\n",
              "    </tr>\n",
              "    <tr>\n",
              "      <th>7</th>\n",
              "      <td>ok</td>\n",
              "      <td>684</td>\n",
              "      <td>{'source': {'id': None, 'name': 'SPORT1'}, 'author': 'SID', 'title': 'Corona-Rekordkulisse beim BVB', 'description': 'Borussia Dortmund hat für das Heimspiel gegen den SC Freiburg am Samstag alle 11.500 Tickets verkauft und sorgt damit in der Bundesliga für einen Corona-Rekord (Bundesliga: Borussia Dortmund - SC Freiburg, Sa. 15.30 Uhr im LIVETICKER).Die bisherige Bestmarke …', 'url': 'https://www.sport1.de/fussball/bundesliga/2020/10/bvb-corona-rekord-mit-zuschauern-bei-borussia-dortmund-sc-freiburg', 'urlToImage': 'https://reshape.sport1.de/c/t/7B9BE7AA-DEB7-4416-9688-06EDC0E0DE11/1200x630', 'publishedAt': '2020-10-02T11:21:21Z', 'content': 'Borussia Dortmund hat für das Heimspiel gegen den SC Freiburg am Samstag alle 11.500 Tickets verkauft und sorgt damit in der Bundesliga für einen Corona-Rekord (Bundesliga: Borussia Dortmund - SC Fre… [+758 chars]'}</td>\n",
              "    </tr>\n",
              "    <tr>\n",
              "      <th>8</th>\n",
              "      <td>ok</td>\n",
              "      <td>684</td>\n",
              "      <td>{'source': {'id': None, 'name': 'N-tv.de'}, 'author': 'n-tv NACHRICHTEN', 'title': 'Gladbach berappelt sich im Derby: Doppelter Haaland schießt BVB auf Kurs', 'description': 'Nach zwei Pleiten hintereinander setzt der BVB gegen den SC Freiburg auf Wiedergutmachung - was voll gelingt. Auch die zweite Borussia der Fußball-Bundesliga dreht auf - ausgerechnet im Rheinischen Derby. Und dann ist da noch das beeindruckende Spiel des neue…', 'url': 'https://www.n-tv.de/sport/fussball/Doppelter-Haaland-schiesst-BVB-auf-Kurs-article22076283.html', 'urlToImage': 'https://bilder1.n-tv.de/img/incoming/crop22076384/9411328112-cImg_16_9-w1200/14e5c922182706983fe08f62be5b0262.jpg', 'publishedAt': '2020-10-03T15:26:13Z', 'content': 'Nach zwei Pleiten hintereinander setzt der BVB gegen den SC Freiburg auf Wiedergutmachung - was voll gelingt. Auch die zweite Borussia der Fußball-Bundesliga dreht auf - ausgerechnet im Rheinischen D… [+4033 chars]'}</td>\n",
              "    </tr>\n",
              "    <tr>\n",
              "      <th>9</th>\n",
              "      <td>ok</td>\n",
              "      <td>684</td>\n",
              "      <td>{'source': {'id': 'spiegel-online', 'name': 'Spiegel Online'}, 'author': 'DER SPIEGEL', 'title': 'Borussia Dortmund will Youssoufa Moukoko für die Champions League melden', 'description': 'In den Jugend-Bundesligen ist Sturmtalent Youssoufa Moukoko nicht zu stoppen. Nun will Borussia Dortmund den 15-Jährigen an die Männerteams heranführen. Ab seinem Geburtstag im November darf er Champions League spielen.', 'url': 'https://www.spiegel.de/sport/fussball/borussia-dortmund-will-youssoufa-moukoko-fuer-die-champions-league-melden-a-5ced9201-62be-4334-8404-6d4452c132ac', 'urlToImage': 'https://cdn.prod.www.spiegel.de/images/f407ff21-fb79-45f7-bf74-9d1344f5c20f_w1280_r1.77_fpx55_fpy26.jpg', 'publishedAt': '2020-10-12T11:00:17Z', 'content': None}</td>\n",
              "    </tr>\n",
              "    <tr>\n",
              "      <th>10</th>\n",
              "      <td>ok</td>\n",
              "      <td>684</td>\n",
              "      <td>{'source': {'id': None, 'name': 'Www.waz.de'}, 'author': 'Robin Haack', 'title': 'Bundesliga: Borussia Dortmund feiert das neue BVB-Traum-Duo', 'description': 'Beim überzeugenden 4:0-Sieg des BVB gegen den SC Freiburg brillieren Giovanni Reyna und Erling Haaland. Das Duo macht Dortmund Hoffnung.', 'url': 'https://www.waz.de/sport/borussia-dortmund-feiert-das-neue-bvb-traum-duo-id230588796.html', 'urlToImage': 'https://img.morgenpost.de/img/sport/crop230588794/2282608128-w820-cv16_9-q85/BVB-Haaland-Reyna.jpg', 'publishedAt': '2020-10-04T20:01:15Z', 'content': 'Dortmund. Man mag es kaum glauben, aber einmal waren sich Giovanni Reyna und Erling Haaland am Samstagnachmittag uneinig. Beim Torjubel nach Borussia Dortmunds Führungstreffer im mit 4:0 gewonnenen F… [+3547 chars]'}</td>\n",
              "    </tr>\n",
              "    <tr>\n",
              "      <th>11</th>\n",
              "      <td>ok</td>\n",
              "      <td>684</td>\n",
              "      <td>{'source': {'id': None, 'name': 't-online.de'}, 'author': 'dpa, sid, Noah Platschko', 'title': 'Champions League: Gruppenphase-Auslosung – FC Bayern droht Todesgruppe - t-online', 'description': '&lt;ol&gt;&lt;li&gt;Champions League: Gruppenphase-Auslosung – FC Bayern droht Todesgruppe  t-online\r\n",
              "&lt;/li&gt;&lt;li&gt;Dear Europe, we're back! #neverstop  FC Red Bull Salzburg\r\n",
              "&lt;/li&gt;&lt;li&gt;Borussia Mönchengladbach: Champions-League-Wunschgruppen unserer Reporter  RP ONLINE\r\n",
              "&lt;/li&gt;&lt;…', 'url': 'https://www.t-online.de/sport/fussball/champions-league/id_88673286/champions-league-gruppenphase-auslosung-fc-bayern-droht-todesgruppe.html', 'urlToImage': 'https://bilder.t-online.de/b/88/67/36/38/id_88673638/tid_da/pep-guardiola-der-city-trainer-koennte-mit-seinem-team-auf-die-bayern-treffen-.jpg', 'publishedAt': '2020-10-01T07:54:22Z', 'content': 'Jedes Jahr wird gezittert. Wie hart wird die Gruppenphase der Champions League? Die vier Bundesligisten befinden sich in vier verschiedenen Töpfen. Auch dem FC Bayern droht ein Hammerlos. \r\n",
              "Die Sorge… [+1974 chars]'}</td>\n",
              "    </tr>\n",
              "    <tr>\n",
              "      <th>12</th>\n",
              "      <td>ok</td>\n",
              "      <td>684</td>\n",
              "      <td>{'source': {'id': None, 'name': 'FussballTransfers.com'}, 'author': 'Tobias Feldhoff', 'title': 'Unterschrift heute: Wolf wechselt nach Köln - FussballTransfers.com', 'description': '&lt;ol&gt;&lt;li&gt;Unterschrift heute: Wolf wechselt nach Köln  FussballTransfers.com\r\n",
              "&lt;/li&gt;&lt;li&gt;Borussia Dortmund: Blitzte Bayer 04 wegen Julian Brandt ab?  LigaInsider\r\n",
              "&lt;/li&gt;&lt;li&gt;1. FC Köln: Marius Wolf wechselt von Borussia Dortmund an den Rhein  Kölner Stadt-Anzeiger\r…', 'url': 'https://www.fussballtransfers.com/a6771525865414288257-unterschrift-heute-wolf-wechselt-nach-koeln', 'urlToImage': 'https://assets-de.imgfoot.com/media/cache/1200x675/marius-wolf-2021.jpg', 'publishedAt': '2020-10-02T05:21:56Z', 'content': 'Marius Wolf setzt seine Karriere beim 1. FC Köln fort. Nach Informationen von Transfermarkt.de leihen die Rheinländer den Außenbahnspieler für eine Saison von Borussia Dortmund aus. Sämtliche Parteie… [+617 chars]'}</td>\n",
              "    </tr>\n",
              "    <tr>\n",
              "      <th>13</th>\n",
              "      <td>ok</td>\n",
              "      <td>684</td>\n",
              "      <td>{'source': {'id': None, 'name': 'FussballTransfers.com'}, 'author': 'Niklas Scheifers', 'title': 'Bestätigt: Moukoko für Champions League eingeplant - FussballTransfers.com', 'description': '&lt;ol&gt;&lt;li&gt;Bestätigt: Moukoko für Champions League eingeplant  FussballTransfers.com\r\n",
              "&lt;/li&gt;&lt;li&gt;BVB: Michael Zorc bestätigt CL-Plan mit Youssoufa Moukoko  sport.de\r\n",
              "&lt;/li&gt;&lt;li&gt;BVB, News und Gerüchte: Borussia Dortmund wird Mega-Talent Moukoko für Champions League a…', 'url': 'https://www.fussballtransfers.com/a1053976310465279968-moukoko-fuer-champions-league-eingeplant', 'urlToImage': 'https://assets-de.imgfoot.com/media/cache/1200x675/youssoufa-moukoko-1920.jpg', 'publishedAt': '2020-10-12T08:33:20Z', 'content': 'Auch in der Champions League winkt Youssoufa Moukoko ein baldiges Debüt. Ja es stimmt, bestätigt Borussia Dortmunds Sportdirektor Michael Zorc gegenüber der Bild, wir werden Youssoufa über die B-List… [+475 chars]'}</td>\n",
              "    </tr>\n",
              "    <tr>\n",
              "      <th>14</th>\n",
              "      <td>ok</td>\n",
              "      <td>684</td>\n",
              "      <td>{'source': {'id': None, 'name': 'sport.de'}, 'author': 'sport.de', 'title': 'BVB: Marco Reus ein \"Problem\" - Felix Magath fühlt mit Lucien Favre mit - sport.de', 'description': '&lt;ol&gt;&lt;li&gt;BVB: Marco Reus ein \"Problem\" - Felix Magath fühlt mit Lucien Favre mit  sport.de\r\n",
              "&lt;/li&gt;&lt;li&gt;Reinier: BVB „ist bestimmt die richtige Wahl“ – Tipps von Amoroso und Dedê  Transfermarkt\r\n",
              "&lt;/li&gt;&lt;li&gt;Reinier: Reus als Vorbild &amp; BVB-Wechsel im zweiten Anlauf  …', 'url': 'https://www.sport.de/news/ne4202645/bvb-marco-reus-ein-problem---felix-magath-fuehlt-mit-lucien-favre-mit/', 'urlToImage': 'https://s.hs-data.com/picmon/66/3nhT_7c3fnL_l.jpg', 'publishedAt': '2020-10-12T08:37:00Z', 'content': 'Marco Reus ist unangefochtener Kapitän bei Fußball-Bundesligist Borussia Dortmund. Geht es nach dem dreimaligen Meister-Trainer Felix Magath, stellt der Angreifer für den BVB jedoch ein großes Proble… [+1592 chars]'}</td>\n",
              "    </tr>\n",
              "    <tr>\n",
              "      <th>15</th>\n",
              "      <td>ok</td>\n",
              "      <td>684</td>\n",
              "      <td>{'source': {'id': None, 'name': 'DW (English)'}, 'author': 'Deutsche Welle (www.dw.com)', 'title': 'Champions-League-Auslosung: Schwere Gruppen für Leipzig und Gladbach, Lewandowski Europas Fußballer des Jahres', 'description': 'Borussia Mönchengladbach und RB Leipzig haben in der Champions League hochkarätige Gegner zugelost bekommen. Titelverteidiger Bayern München und Borussia Dortmund spielen vergleichsweise leichtere Gruppen. Champions-League-Titelverteidiger Bayern München beka…', 'url': 'https://www.dw.com/de/champions-league-auslosung-schwere-gruppen-f%C3%BCr-leipzig-und-gladbach-lewandowski-europas-fu%C3%9Fballer-des-jahres/a-55122034', 'urlToImage': 'https://www.dw.com/image/55126146_304.jpg', 'publishedAt': '2020-10-01T17:16:00Z', 'content': 'Champions-League-Titelverteidiger Bayern München bekam bei der Auslosung am UEFA-Hauptsitz im schweizerischen Genf Atletico Madrid, RB Salzburg und Lokomotive Moskau in der Gruppe A zugelost. Auf Viz… [+3678 chars]'}</td>\n",
              "    </tr>\n",
              "    <tr>\n",
              "      <th>16</th>\n",
              "      <td>ok</td>\n",
              "      <td>684</td>\n",
              "      <td>{'source': {'id': None, 'name': 'DW (English)'}, 'author': 'Deutsche Welle (www.dw.com)', 'title': 'Verdienter BVB-Sieg nach Haaland-Doppelpack', 'description': 'Erling Haaland weckt Borussia Dortmund auf und bringt den BVB zurück in die Spur. Die Borussia aus Mönchengladbach gewinnt das rheinische Derby souverän. sliga 3. Spieltag Borussia Dortmund hat den drohenden Saison-Fehlstart dank Erling Haaland abgewendet. Na…', 'url': 'https://www.dw.com/de/verdienter-bvb-sieg-nach-haaland-doppelpack/a-55136322', 'urlToImage': 'https://www.dw.com/image/55146601_304.jpg', 'publishedAt': '2020-10-03T15:39:00Z', 'content': 'Borussia Dortmund hat den drohenden Saison-Fehlstart dank Erling Haaland abgewendet. Nach zuletzt zwei Niederlagen für den BVB, in der Bundesliga beim FC Augsburg (0:2) und im Supercup (2:3) beim FC … [+3021 chars]'}</td>\n",
              "    </tr>\n",
              "    <tr>\n",
              "      <th>17</th>\n",
              "      <td>ok</td>\n",
              "      <td>684</td>\n",
              "      <td>{'source': {'id': None, 'name': 'Www.bvb.de'}, 'author': 'info@bvb.de (Borussia Dortmund)', 'title': 'BVB sagt Test gegen Anderlecht ab', 'description': 'Borussia Dortmund hat ein für den kommenden Samstag (15 Uhr) geplantes Testspiel gegen den RSC Anderlecht am Donnerstagabend abgesagt.', 'url': 'http://www.bvb.de/News/Uebersicht/BVB-sagt-Test-gegen-Anderlecht-ab', 'urlToImage': 'http://www.bvb.de/var/ezdemo_site/storage/images/media/bilder/teaserbilder/t_ball_beine/3284065-1-ger-DE/T_Ball_Beine_bvbnachricht_teaser_normal_retina.jpg', 'publishedAt': '2020-10-08T16:45:00Z', 'content': '1&amp;amp;1\r\n",
              "Der führende Anbieter von Breitband und Mobilfunkprodukten 1&amp;amp;1 und der BVB starten heute ihre gemeinsame Partnerschaft. Als neuer Hauptsponsor wird 1&amp;amp;1 künftig nicht nur auf der Trik… [+713 chars]'}</td>\n",
              "    </tr>\n",
              "    <tr>\n",
              "      <th>18</th>\n",
              "      <td>ok</td>\n",
              "      <td>684</td>\n",
              "      <td>{'source': {'id': None, 'name': 'kicker'}, 'author': 'kicker', 'title': 'Metaxas: \"Ein anstrengendes und wildes Spiel\"', 'description': 'So sahen die Trainer die Leistung ihrer Teams...', 'url': 'https://www.kicker.de/metaxas-ein-anstrengendes-und-wildes-spiel-786254/artikel', 'urlToImage': 'https://derivates.kicker.de/image/upload/w_3817,h_2147,g_auto:subject,c_fill,c_crop/w_1000,h_563,q_auto/lqxegzcotvucr9zupu5s.jpg', 'publishedAt': '2020-10-04T16:53:00Z', 'content': 'So sahen die Trainer die Leistung ihrer Teams... VfL Wolfsburg - FC Augsburg 0:0Oliver Glasner (Trainer VfL Wolfsburg): \"Ich bin mit der Leistung einverstanden, mit dem Ergebnis nicht. Es war das sie… [+5607 chars]'}</td>\n",
              "    </tr>\n",
              "    <tr>\n",
              "      <th>19</th>\n",
              "      <td>ok</td>\n",
              "      <td>684</td>\n",
              "      <td>{'source': {'id': None, 'name': 'kicker'}, 'author': 'kicker', 'title': 'Hütter: \"Es hat einfach Spaß gemacht.\"', 'description': 'So sahen die Trainer die Leistung ihrer Teams...', 'url': 'https://www.kicker.de/huetter-es-hat-einfach-spass-gemacht-786254/artikel', 'urlToImage': 'https://derivates.kicker.de/image/upload/w_4000,h_2250,g_auto:subject,c_fill,c_crop/w_1000,h_563,q_auto/vepunfkvafjp6rpanzj4.jpg', 'publishedAt': '2020-10-03T16:47:00Z', 'content': 'So sahen die Trainer die Leistung ihrer Teams... Eintracht Frankfurt - TSG Hoffenheim 2:1 (0:1)Adi Hütter (Trainer Eintracht Frankfurt): \"Der Sieg geht für mich über 90 Minuten in Ordnung. Das Gegent… [+4145 chars]'}</td>\n",
              "    </tr>\n",
              "  </tbody>\n",
              "</table>\n",
              "</div>"
            ],
            "text/plain": [
              "   status  ...                                                                                                                                                                                                                                                                                                                                                                                                                                                                                                                                                                                                                                                                                                                                                                                                                                                                                                                                                                                                                                                                       articles\n",
              "0   ok     ...  {'source': {'id': None, 'name': 'N-tv.de'}, 'author': 'n-tv NACHRICHTEN', 'title': '\"Dinge, die nur die Bayern tun\": FC Bayern klärt M-Frage besser als der BVB', 'description': 'Bei Borussia Dortmund sorgt die \"M-Frage\"  regelmäßig für viel Ärger. Führungspersonal des chronischen Vizemeisters schimpfte einst auf den \"mentalitätsscheiß\", der damit gemeint sei. Beim FC Bayern gibt es auch eine \"M-Frage\". Der Rekordmeister stellt sich i…', 'url': 'https://www.n-tv.de/sport/fussball/FC-Bayern-klaert-M-Frage-besser-als-der-BVB-article22077854.html', 'urlToImage': 'https://bilder4.n-tv.de/img/incoming/crop22077871/3581327875-cImg_16_9-w1200/imago0048631290h.jpg', 'publishedAt': '2020-10-05T00:37:34Z', 'content': 'Bei Borussia Dortmund sorgt die \"M-Frage\" regelmäßig für viel Ärger. Führungspersonal des chronischen Vizemeisters schimpfte einst auf den \"mentalitätsscheiß\", der damit gemeint sei. Beim FC Bayern g… [+5789 chars]'}                                                                                                        \n",
              "1   ok     ...  {'source': {'id': None, 'name': 'kicker'}, 'author': 'kicker', 'title': 'Sportfreunde Lotte verstärken sich mit Aydinel', 'description': 'Die Sportfreunde Lotte sind noch einmal auf dem Transfermarkt tätig geworden und haben sich die Dienste von Offensivmann Emre Aydinel gesichert.', 'url': 'https://www.kicker.de/sportfreunde-lotte-verstaerken-sich-mit-aydinel-786250/artikel', 'urlToImage': 'https://derivates.kicker.de/image/upload/w_4674,h_2629,g_auto:subject,c_fill,c_crop/w_1000,h_563,q_auto/cy5fh6apvrqnfmzhmf9j.jpg', 'publishedAt': '2020-10-02T21:16:00Z', 'content': 'Die Sportfreunde Lotte sind noch einmal auf dem Transfermarkt tätig geworden und haben sich die Dienste von Offensivmann Emre Aydinel gesichert. \n",
              " Aydinel hat bereits in den letzten zwei Wochen am T… [+871 chars]'}                                                                                                                                                                                                                                                     \n",
              "2   ok     ...  {'source': {'id': None, 'name': 'N-tv.de'}, 'author': 'n-tv NACHRICHTEN', 'title': 'DFB-Coach nominiert Riesenkader: Löw überrascht mit Dahoud und Hofmann', 'description': 'Der Bundestrainer freut sich über die Rückkehr von neun zuletzt geschonten Stars. Für den anstehenden Länderspiel-Dreierpack der deutschen Fußball-Nationalmannschaft sorgt Joachim Löw indes auch für zwei Überraschungen. Vier Dauergäste des DFB-Teams müssen al…', 'url': 'https://www.n-tv.de/sport/fussball/Loew-ueberrascht-mit-Dahoud-und-Hofmann-article22073930.html', 'urlToImage': 'https://bilder3.n-tv.de/img/incoming/crop22073926/3621321583-cImg_16_9-w1200/imago0048562674h.jpg', 'publishedAt': '2020-10-02T09:18:07Z', 'content': 'Der Bundestrainer freut sich über die Rückkehr von neun zuletzt geschonten Stars. Für den anstehenden Länderspiel-Dreierpack der deutschen Fußball-Nationalmannschaft sorgt Joachim Löw indes auch für … [+2681 chars]'}                                                                                                                 \n",
              "3   ok     ...  {'source': {'id': None, 'name': 'mobiFlip.de'}, 'author': 'René Hesse', 'title': 'Sky Q: Diese UHD-Inhalte gibt es im Oktober', 'description': 'Auf Sky Q landen auch im Oktober wieder verschiedene Inhalte in Ultra-HD-Auflösung. Diese hat Sky heute mitgeteilt. Um die Sky-Programme in UHD zu sehen, benötigen […]', 'url': 'https://www.mobiflip.de/shortnews/sky-q-uhd-10-2020/', 'urlToImage': 'https://i0.wp.com/www.mobiflip.de/wp-content/uploads/2020/03/sky-logo.jpg?fit=1200%2C700&ssl=1', 'publishedAt': '2020-10-01T08:55:28Z', 'content': 'Auf Sky Q landen auch im Oktober wieder verschiedene Inhalte in Ultra-HD-Auflösung. Diese hat Sky heute mitgeteilt.\n",
              "Um die Sky-Programme in UHD zu sehen, benötigen Kunden einen 4K-tauglichen Fernseh… [+2462 chars]'}                                                                                                                                                                                                                                                                                         \n",
              "4   ok     ...  {'source': {'id': None, 'name': 'N-tv.de'}, 'author': 'n-tv NACHRICHTEN', 'title': 'Wolfsburg kommt nicht in Schwung: FC Augsburg mischt die Tabellenspitze auf', 'description': 'RB Leipzig, Borussia Dortmund - diese beiden Klubs sind ganz oben in der Fußball-Bundesliga zu erwarten. Aber der FC Augsburg? Ja, die bayerischen Schwaben sind tatsächlich Zweiter. Dass das Team sich auch gegen den VfL Wolfsburg behauptet, dürfte Trainer Hei…', 'url': 'https://www.n-tv.de/sport/fussball/FC-Augsburg-mischt-die-Tabellenspitze-auf-article22077640.html', 'urlToImage': 'https://bilder4.n-tv.de/img/incoming/crop22077639/5941327026-cImg_16_9-w1200/667fb48e6c6d6c7814c13e97f7c92bcf.jpg', 'publishedAt': '2020-10-04T15:25:07Z', 'content': 'RB Leipzig, Borussia Dortmund - diese beiden Klubs sind ganz oben in der Fußball-Bundesliga zu erwarten. Aber der FC Augsburg? Ja, die bayerischen Schwaben sind tatsächlich Zweiter. Dass das Team sic… [+2162 chars]'}                                                                                          \n",
              "5   ok     ...  {'source': {'id': None, 'name': 'N-tv.de'}, 'author': 'n-tv NACHRICHTEN', 'title': 'DFB-Coach nominiert Riesenkader: Löw überrascht mit Dahoud und Hofmann', 'description': 'Der Bundestrainer freut sich über die Rückkehr von neun zuletzt geschonten Stars. Für den anstehenden Länderspiel-Dreierpack der deutschen Fußball-Nationalmannschaft sorgt Joachim Löw indes auch für zwei Überraschungen. Vier Dauergäste des DFB-Teams müssen al…', 'url': 'https://www.n-tv.de/sport/fussball/Loew-ueberrascht-mit-zwei-Debuetanten-article22073930.html', 'urlToImage': 'https://bilder3.n-tv.de/img/incoming/crop22073926/3621321583-cImg_16_9-w1200/imago0048562674h.jpg', 'publishedAt': '2020-10-02T09:18:07Z', 'content': 'Der Bundestrainer freut sich über die Rückkehr von neun zuletzt geschonten Stars. Für den anstehenden Länderspiel-Dreierpack der deutschen Fußball-Nationalmannschaft sorgt Joachim Löw indes auch für … [+2681 chars]'}                                                                                                                   \n",
              "6   ok     ...  {'source': {'id': None, 'name': 'Transfermarkt'}, 'author': 'redaktion@transfermarkt.de (Redaktion Transfermarkt)', 'title': 'BVB verleiht Marius Wolf erneut: 1. FC Köln erhält Zuschlag', 'description': 'Der 1.FC Köln hat sich die Dienste von Marius Wolf gesichert. Der 25-jährige Rechtsaußen, der in der vergangenen Spielzeit leihweise für Hertha BSC spielte, kommt für eine...', 'url': 'https://www.transfermarkt.de/bvb-verleiht-wolf-erneut-1-fc-koln-erhalt-zuschlag-ndash-bdquo-passt-genau-in-unser-profil-ldquo-/view/news/371922', 'urlToImage': 'https://tmssl.akamaized.net/images/foto/big/marius-wolf-trifft-fur-hertha-bsc-1571855892-26845.jpg', 'publishedAt': '2020-10-02T12:25:14Z', 'content': 'Der 1.FC Köln hat sich die Dienste von Marius Wolf gesichert. Der 25-jährige Rechtsaußen, der in der vergangenen Spielzeit leihweise für Hertha BSC spielte, kommt für eine Saison von Borussia Dortmun… [+1258 chars]'}                                                                                                                       \n",
              "7   ok     ...  {'source': {'id': None, 'name': 'SPORT1'}, 'author': 'SID', 'title': 'Corona-Rekordkulisse beim BVB', 'description': 'Borussia Dortmund hat für das Heimspiel gegen den SC Freiburg am Samstag alle 11.500 Tickets verkauft und sorgt damit in der Bundesliga für einen Corona-Rekord (Bundesliga: Borussia Dortmund - SC Freiburg, Sa. 15.30 Uhr im LIVETICKER).Die bisherige Bestmarke …', 'url': 'https://www.sport1.de/fussball/bundesliga/2020/10/bvb-corona-rekord-mit-zuschauern-bei-borussia-dortmund-sc-freiburg', 'urlToImage': 'https://reshape.sport1.de/c/t/7B9BE7AA-DEB7-4416-9688-06EDC0E0DE11/1200x630', 'publishedAt': '2020-10-02T11:21:21Z', 'content': 'Borussia Dortmund hat für das Heimspiel gegen den SC Freiburg am Samstag alle 11.500 Tickets verkauft und sorgt damit in der Bundesliga für einen Corona-Rekord (Bundesliga: Borussia Dortmund - SC Fre… [+758 chars]'}                                                                                                                                                                          \n",
              "8   ok     ...  {'source': {'id': None, 'name': 'N-tv.de'}, 'author': 'n-tv NACHRICHTEN', 'title': 'Gladbach berappelt sich im Derby: Doppelter Haaland schießt BVB auf Kurs', 'description': 'Nach zwei Pleiten hintereinander setzt der BVB gegen den SC Freiburg auf Wiedergutmachung - was voll gelingt. Auch die zweite Borussia der Fußball-Bundesliga dreht auf - ausgerechnet im Rheinischen Derby. Und dann ist da noch das beeindruckende Spiel des neue…', 'url': 'https://www.n-tv.de/sport/fussball/Doppelter-Haaland-schiesst-BVB-auf-Kurs-article22076283.html', 'urlToImage': 'https://bilder1.n-tv.de/img/incoming/crop22076384/9411328112-cImg_16_9-w1200/14e5c922182706983fe08f62be5b0262.jpg', 'publishedAt': '2020-10-03T15:26:13Z', 'content': 'Nach zwei Pleiten hintereinander setzt der BVB gegen den SC Freiburg auf Wiedergutmachung - was voll gelingt. Auch die zweite Borussia der Fußball-Bundesliga dreht auf - ausgerechnet im Rheinischen D… [+4033 chars]'}                                                                                               \n",
              "9   ok     ...  {'source': {'id': 'spiegel-online', 'name': 'Spiegel Online'}, 'author': 'DER SPIEGEL', 'title': 'Borussia Dortmund will Youssoufa Moukoko für die Champions League melden', 'description': 'In den Jugend-Bundesligen ist Sturmtalent Youssoufa Moukoko nicht zu stoppen. Nun will Borussia Dortmund den 15-Jährigen an die Männerteams heranführen. Ab seinem Geburtstag im November darf er Champions League spielen.', 'url': 'https://www.spiegel.de/sport/fussball/borussia-dortmund-will-youssoufa-moukoko-fuer-die-champions-league-melden-a-5ced9201-62be-4334-8404-6d4452c132ac', 'urlToImage': 'https://cdn.prod.www.spiegel.de/images/f407ff21-fb79-45f7-bf74-9d1344f5c20f_w1280_r1.77_fpx55_fpy26.jpg', 'publishedAt': '2020-10-12T11:00:17Z', 'content': None}                                                                                                                                                                                                                                                                                                 \n",
              "10  ok     ...  {'source': {'id': None, 'name': 'Www.waz.de'}, 'author': 'Robin Haack', 'title': 'Bundesliga: Borussia Dortmund feiert das neue BVB-Traum-Duo', 'description': 'Beim überzeugenden 4:0-Sieg des BVB gegen den SC Freiburg brillieren Giovanni Reyna und Erling Haaland. Das Duo macht Dortmund Hoffnung.', 'url': 'https://www.waz.de/sport/borussia-dortmund-feiert-das-neue-bvb-traum-duo-id230588796.html', 'urlToImage': 'https://img.morgenpost.de/img/sport/crop230588794/2282608128-w820-cv16_9-q85/BVB-Haaland-Reyna.jpg', 'publishedAt': '2020-10-04T20:01:15Z', 'content': 'Dortmund. Man mag es kaum glauben, aber einmal waren sich Giovanni Reyna und Erling Haaland am Samstagnachmittag uneinig. Beim Torjubel nach Borussia Dortmunds Führungstreffer im mit 4:0 gewonnenen F… [+3547 chars]'}                                                                                                                                                                                                                                                               \n",
              "11  ok     ...  {'source': {'id': None, 'name': 't-online.de'}, 'author': 'dpa, sid, Noah Platschko', 'title': 'Champions League: Gruppenphase-Auslosung – FC Bayern droht Todesgruppe - t-online', 'description': '<ol><li>Champions League: Gruppenphase-Auslosung – FC Bayern droht Todesgruppe  t-online\n",
              "</li><li>Dear Europe, we're back! #neverstop  FC Red Bull Salzburg\n",
              "</li><li>Borussia Mönchengladbach: Champions-League-Wunschgruppen unserer Reporter  RP ONLINE\n",
              "</li><…', 'url': 'https://www.t-online.de/sport/fussball/champions-league/id_88673286/champions-league-gruppenphase-auslosung-fc-bayern-droht-todesgruppe.html', 'urlToImage': 'https://bilder.t-online.de/b/88/67/36/38/id_88673638/tid_da/pep-guardiola-der-city-trainer-koennte-mit-seinem-team-auf-die-bayern-treffen-.jpg', 'publishedAt': '2020-10-01T07:54:22Z', 'content': 'Jedes Jahr wird gezittert. Wie hart wird die Gruppenphase der Champions League? Die vier Bundesligisten befinden sich in vier verschiedenen Töpfen. Auch dem FC Bayern droht ein Hammerlos. \n",
              "Die Sorge… [+1974 chars]'}\n",
              "12  ok     ...  {'source': {'id': None, 'name': 'FussballTransfers.com'}, 'author': 'Tobias Feldhoff', 'title': 'Unterschrift heute: Wolf wechselt nach Köln - FussballTransfers.com', 'description': '<ol><li>Unterschrift heute: Wolf wechselt nach Köln  FussballTransfers.com\n",
              "</li><li>Borussia Dortmund: Blitzte Bayer 04 wegen Julian Brandt ab?  LigaInsider\n",
              "</li><li>1. FC Köln: Marius Wolf wechselt von Borussia Dortmund an den Rhein  Kölner Stadt-Anzeiger\n",
              "…', 'url': 'https://www.fussballtransfers.com/a6771525865414288257-unterschrift-heute-wolf-wechselt-nach-koeln', 'urlToImage': 'https://assets-de.imgfoot.com/media/cache/1200x675/marius-wolf-2021.jpg', 'publishedAt': '2020-10-02T05:21:56Z', 'content': 'Marius Wolf setzt seine Karriere beim 1. FC Köln fort. Nach Informationen von Transfermarkt.de leihen die Rheinländer den Außenbahnspieler für eine Saison von Borussia Dortmund aus. Sämtliche Parteie… [+617 chars]'}                                                                                                                               \n",
              "13  ok     ...  {'source': {'id': None, 'name': 'FussballTransfers.com'}, 'author': 'Niklas Scheifers', 'title': 'Bestätigt: Moukoko für Champions League eingeplant - FussballTransfers.com', 'description': '<ol><li>Bestätigt: Moukoko für Champions League eingeplant  FussballTransfers.com\n",
              "</li><li>BVB: Michael Zorc bestätigt CL-Plan mit Youssoufa Moukoko  sport.de\n",
              "</li><li>BVB, News und Gerüchte: Borussia Dortmund wird Mega-Talent Moukoko für Champions League a…', 'url': 'https://www.fussballtransfers.com/a1053976310465279968-moukoko-fuer-champions-league-eingeplant', 'urlToImage': 'https://assets-de.imgfoot.com/media/cache/1200x675/youssoufa-moukoko-1920.jpg', 'publishedAt': '2020-10-12T08:33:20Z', 'content': 'Auch in der Champions League winkt Youssoufa Moukoko ein baldiges Debüt. Ja es stimmt, bestätigt Borussia Dortmunds Sportdirektor Michael Zorc gegenüber der Bild, wir werden Youssoufa über die B-List… [+475 chars]'}                                                                                                                    \n",
              "14  ok     ...  {'source': {'id': None, 'name': 'sport.de'}, 'author': 'sport.de', 'title': 'BVB: Marco Reus ein \"Problem\" - Felix Magath fühlt mit Lucien Favre mit - sport.de', 'description': '<ol><li>BVB: Marco Reus ein \"Problem\" - Felix Magath fühlt mit Lucien Favre mit  sport.de\n",
              "</li><li>Reinier: BVB „ist bestimmt die richtige Wahl“ – Tipps von Amoroso und Dedê  Transfermarkt\n",
              "</li><li>Reinier: Reus als Vorbild & BVB-Wechsel im zweiten Anlauf  …', 'url': 'https://www.sport.de/news/ne4202645/bvb-marco-reus-ein-problem---felix-magath-fuehlt-mit-lucien-favre-mit/', 'urlToImage': 'https://s.hs-data.com/picmon/66/3nhT_7c3fnL_l.jpg', 'publishedAt': '2020-10-12T08:37:00Z', 'content': 'Marco Reus ist unangefochtener Kapitän bei Fußball-Bundesligist Borussia Dortmund. Geht es nach dem dreimaligen Meister-Trainer Felix Magath, stellt der Angreifer für den BVB jedoch ein großes Proble… [+1592 chars]'}                                                                                                                                                 \n",
              "15  ok     ...  {'source': {'id': None, 'name': 'DW (English)'}, 'author': 'Deutsche Welle (www.dw.com)', 'title': 'Champions-League-Auslosung: Schwere Gruppen für Leipzig und Gladbach, Lewandowski Europas Fußballer des Jahres', 'description': 'Borussia Mönchengladbach und RB Leipzig haben in der Champions League hochkarätige Gegner zugelost bekommen. Titelverteidiger Bayern München und Borussia Dortmund spielen vergleichsweise leichtere Gruppen. Champions-League-Titelverteidiger Bayern München beka…', 'url': 'https://www.dw.com/de/champions-league-auslosung-schwere-gruppen-f%C3%BCr-leipzig-und-gladbach-lewandowski-europas-fu%C3%9Fballer-des-jahres/a-55122034', 'urlToImage': 'https://www.dw.com/image/55126146_304.jpg', 'publishedAt': '2020-10-01T17:16:00Z', 'content': 'Champions-League-Titelverteidiger Bayern München bekam bei der Auslosung am UEFA-Hauptsitz im schweizerischen Genf Atletico Madrid, RB Salzburg und Lokomotive Moskau in der Gruppe A zugelost. Auf Viz… [+3678 chars]'}                                                         \n",
              "16  ok     ...  {'source': {'id': None, 'name': 'DW (English)'}, 'author': 'Deutsche Welle (www.dw.com)', 'title': 'Verdienter BVB-Sieg nach Haaland-Doppelpack', 'description': 'Erling Haaland weckt Borussia Dortmund auf und bringt den BVB zurück in die Spur. Die Borussia aus Mönchengladbach gewinnt das rheinische Derby souverän. sliga 3. Spieltag Borussia Dortmund hat den drohenden Saison-Fehlstart dank Erling Haaland abgewendet. Na…', 'url': 'https://www.dw.com/de/verdienter-bvb-sieg-nach-haaland-doppelpack/a-55136322', 'urlToImage': 'https://www.dw.com/image/55146601_304.jpg', 'publishedAt': '2020-10-03T15:39:00Z', 'content': 'Borussia Dortmund hat den drohenden Saison-Fehlstart dank Erling Haaland abgewendet. Nach zuletzt zwei Niederlagen für den BVB, in der Bundesliga beim FC Augsburg (0:2) und im Supercup (2:3) beim FC … [+3021 chars]'}                                                                                                                                                                                                       \n",
              "17  ok     ...  {'source': {'id': None, 'name': 'Www.bvb.de'}, 'author': 'info@bvb.de (Borussia Dortmund)', 'title': 'BVB sagt Test gegen Anderlecht ab', 'description': 'Borussia Dortmund hat ein für den kommenden Samstag (15 Uhr) geplantes Testspiel gegen den RSC Anderlecht am Donnerstagabend abgesagt.', 'url': 'http://www.bvb.de/News/Uebersicht/BVB-sagt-Test-gegen-Anderlecht-ab', 'urlToImage': 'http://www.bvb.de/var/ezdemo_site/storage/images/media/bilder/teaserbilder/t_ball_beine/3284065-1-ger-DE/T_Ball_Beine_bvbnachricht_teaser_normal_retina.jpg', 'publishedAt': '2020-10-08T16:45:00Z', 'content': '1&amp;1\n",
              "Der führende Anbieter von Breitband und Mobilfunkprodukten 1&amp;1 und der BVB starten heute ihre gemeinsame Partnerschaft. Als neuer Hauptsponsor wird 1&amp;1 künftig nicht nur auf der Trik… [+713 chars]'}                                                                                                                                                                                                                                     \n",
              "18  ok     ...  {'source': {'id': None, 'name': 'kicker'}, 'author': 'kicker', 'title': 'Metaxas: \"Ein anstrengendes und wildes Spiel\"', 'description': 'So sahen die Trainer die Leistung ihrer Teams...', 'url': 'https://www.kicker.de/metaxas-ein-anstrengendes-und-wildes-spiel-786254/artikel', 'urlToImage': 'https://derivates.kicker.de/image/upload/w_3817,h_2147,g_auto:subject,c_fill,c_crop/w_1000,h_563,q_auto/lqxegzcotvucr9zupu5s.jpg', 'publishedAt': '2020-10-04T16:53:00Z', 'content': 'So sahen die Trainer die Leistung ihrer Teams... VfL Wolfsburg - FC Augsburg 0:0Oliver Glasner (Trainer VfL Wolfsburg): \"Ich bin mit der Leistung einverstanden, mit dem Ergebnis nicht. Es war das sie… [+5607 chars]'}                                                                                                                                                                                                                                                                                                                                                          \n",
              "19  ok     ...  {'source': {'id': None, 'name': 'kicker'}, 'author': 'kicker', 'title': 'Hütter: \"Es hat einfach Spaß gemacht.\"', 'description': 'So sahen die Trainer die Leistung ihrer Teams...', 'url': 'https://www.kicker.de/huetter-es-hat-einfach-spass-gemacht-786254/artikel', 'urlToImage': 'https://derivates.kicker.de/image/upload/w_4000,h_2250,g_auto:subject,c_fill,c_crop/w_1000,h_563,q_auto/vepunfkvafjp6rpanzj4.jpg', 'publishedAt': '2020-10-03T16:47:00Z', 'content': 'So sahen die Trainer die Leistung ihrer Teams... Eintracht Frankfurt - TSG Hoffenheim 2:1 (0:1)Adi Hütter (Trainer Eintracht Frankfurt): \"Der Sieg geht für mich über 90 Minuten in Ordnung. Das Gegent… [+4145 chars]'}                                                                                                                                                                                                                                                                                                                                                                       \n",
              "\n",
              "[20 rows x 3 columns]"
            ]
          },
          "metadata": {
            "tags": []
          },
          "execution_count": 14
        }
      ]
    }
  ]
}