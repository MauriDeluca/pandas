{
  "nbformat": 4,
  "nbformat_minor": 0,
  "metadata": {
    "colab": {
      "name": "calentamiento.ipynb",
      "provenance": [],
      "authorship_tag": "ABX9TyMFGFBOUUJzRj1r8O7wFnG9",
      "include_colab_link": true
    },
    "kernelspec": {
      "name": "python3",
      "display_name": "Python 3"
    }
  },
  "cells": [
    {
      "cell_type": "markdown",
      "metadata": {
        "id": "view-in-github",
        "colab_type": "text"
      },
      "source": [
        "<a href=\"https://colab.research.google.com/github/MauriDeluca/pandas/blob/master/calentamiento.ipynb\" target=\"_parent\"><img src=\"https://colab.research.google.com/assets/colab-badge.svg\" alt=\"Open In Colab\"/></a>"
      ]
    },
    {
      "cell_type": "code",
      "metadata": {
        "id": "u6zAa2O3438h",
        "colab_type": "code",
        "colab": {}
      },
      "source": [
        "import pandas as pd"
      ],
      "execution_count": 2,
      "outputs": []
    },
    {
      "cell_type": "code",
      "metadata": {
        "id": "lUd92NK75ABx",
        "colab_type": "code",
        "colab": {}
      },
      "source": [
        "import cv2 as cv"
      ],
      "execution_count": 4,
      "outputs": []
    },
    {
      "cell_type": "code",
      "metadata": {
        "id": "emzVpSWl5-jO",
        "colab_type": "code",
        "colab": {}
      },
      "source": [
        "url = \"https://raw.githubusercontent.com/MauriDeluca/pandas/master/CPS1985.csv\""
      ],
      "execution_count": 7,
      "outputs": []
    },
    {
      "cell_type": "code",
      "metadata": {
        "id": "gg8j1VciALJ9",
        "colab_type": "code",
        "colab": {
          "base_uri": "https://localhost:8080/",
          "height": 235
        },
        "outputId": "1fe72d16-673f-403f-b305-6ee41c716ff4"
      },
      "source": [
        "df = pd.read_csv(url)\n",
        "print(df.head(10))"
      ],
      "execution_count": 11,
      "outputs": [
        {
          "output_type": "stream",
          "text": [
            "   Unnamed: 0   wage  education  ...         sector  union married\n",
            "0           1   5.10          8  ...  manufacturing     no     yes\n",
            "1        1100   4.95          9  ...  manufacturing     no     yes\n",
            "2           2   6.67         12  ...  manufacturing     no      no\n",
            "3           3   4.00         12  ...          other     no      no\n",
            "4           4   7.50         12  ...          other     no     yes\n",
            "5           5  13.07         13  ...          other    yes      no\n",
            "6           6   4.45         10  ...          other     no      no\n",
            "7           7  19.47         12  ...          other     no      no\n",
            "8           8  13.28         16  ...  manufacturing     no     yes\n",
            "9           9   8.75         12  ...          other     no      no\n",
            "\n",
            "[10 rows x 12 columns]\n"
          ],
          "name": "stdout"
        }
      ]
    },
    {
      "cell_type": "code",
      "metadata": {
        "id": "1lglE2h1Cki9",
        "colab_type": "code",
        "colab": {}
      },
      "source": [
        "df.drop(df.columns[0], axis='columns', inplace=True)"
      ],
      "execution_count": 26,
      "outputs": []
    },
    {
      "cell_type": "code",
      "metadata": {
        "id": "McvvaJOSJGBk",
        "colab_type": "code",
        "colab": {
          "base_uri": "https://localhost:8080/",
          "height": 34
        },
        "outputId": "bf3a24cb-6afa-4cd3-e38e-913a13996905"
      },
      "source": [
        "df.shape"
      ],
      "execution_count": 27,
      "outputs": [
        {
          "output_type": "execute_result",
          "data": {
            "text/plain": [
              "(534, 11)"
            ]
          },
          "metadata": {
            "tags": []
          },
          "execution_count": 27
        }
      ]
    },
    {
      "cell_type": "code",
      "metadata": {
        "id": "GgrjYoD5Jn6q",
        "colab_type": "code",
        "colab": {
          "base_uri": "https://localhost:8080/",
          "height": 218
        },
        "outputId": "8e7b4897-bd80-45e9-e693-ca86b13917b6"
      },
      "source": [
        "pd.isnull(df).any()"
      ],
      "execution_count": 32,
      "outputs": [
        {
          "output_type": "execute_result",
          "data": {
            "text/plain": [
              "wage          False\n",
              "education     False\n",
              "experience    False\n",
              "age           False\n",
              "ethnicity     False\n",
              "region        False\n",
              "gender        False\n",
              "occupation    False\n",
              "sector        False\n",
              "union         False\n",
              "married       False\n",
              "dtype: bool"
            ]
          },
          "metadata": {
            "tags": []
          },
          "execution_count": 32
        }
      ]
    },
    {
      "cell_type": "code",
      "metadata": {
        "id": "vj_V33OkLAqk",
        "colab_type": "code",
        "colab": {
          "base_uri": "https://localhost:8080/",
          "height": 218
        },
        "outputId": "de0e227e-79b0-4e4d-83ac-787e505fafe8"
      },
      "source": [
        "df.duplicated()"
      ],
      "execution_count": 37,
      "outputs": [
        {
          "output_type": "execute_result",
          "data": {
            "text/plain": [
              "0      False\n",
              "1      False\n",
              "2      False\n",
              "3      False\n",
              "4      False\n",
              "       ...  \n",
              "529    False\n",
              "530    False\n",
              "531    False\n",
              "532    False\n",
              "533    False\n",
              "Length: 534, dtype: bool"
            ]
          },
          "metadata": {
            "tags": []
          },
          "execution_count": 37
        }
      ]
    },
    {
      "cell_type": "code",
      "metadata": {
        "id": "X02JbdOlLRce",
        "colab_type": "code",
        "colab": {}
      },
      "source": [
        "import matplotlib.pyplot as plt"
      ],
      "execution_count": 42,
      "outputs": []
    },
    {
      "cell_type": "code",
      "metadata": {
        "id": "oPD7M-BeLt8N",
        "colab_type": "code",
        "colab": {
          "base_uri": "https://localhost:8080/",
          "height": 298
        },
        "outputId": "940a1440-c84f-48a6-8aaf-98e674f2838b"
      },
      "source": [
        "plt.hist(df[\"wage\"],histtype=\"bar\",color=\"red\",edgecolor = 'black',  linewidth=1)\n",
        "plt.title (\"histograma\")\n",
        "plt.legend()\n",
        "   \n",
        "plt.show()"
      ],
      "execution_count": 46,
      "outputs": [
        {
          "output_type": "stream",
          "text": [
            "No handles with labels found to put in legend.\n"
          ],
          "name": "stderr"
        },
        {
          "output_type": "display_data",
          "data": {
            "image/png": "[encoded data removed]",
            "text/plain": [
              "<Figure size 432x288 with 1 Axes>"
            ]
          },
          "metadata": {
            "tags": [],
            "needs_background": "light"
          }
        }
      ]
    },
    {
      "cell_type": "code",
      "metadata": {
        "id": "bWYQM6dWRQay",
        "colab_type": "code",
        "colab": {
          "base_uri": "https://localhost:8080/",
          "height": 716
        },
        "outputId": "f7e55b57-e0a2-421f-e575-9d66059b8df0"
      },
      "source": [
        "variables = [\"wage\", \"education\", \"experience\", \"age\"]\n",
        "\n",
        "fig = plt.figure(figsize=(5, 12))\n",
        "for i, v in enumerate(variables):\n",
        "    fig.add_subplot(4, 1, i+1)\n",
        "    ax = df[v].plot(kind='hist',color= \"green\", edgecolor = 'black',  linewidth=1)\n",
        "    ax.set_xlim([0, 5])\n",
        "    ax.set_ylabel('')\n",
        "    ax.set_title(v)\n",
        "    ax.grid()"
      ],
      "execution_count": 57,
      "outputs": [
        {
          "output_type": "display_data",
          "data": {
            "image/png": "[encoded data removed]",
            "text/plain": [
              "<Figure size 360x864 with 4 Axes>"
            ]
          },
          "metadata": {
            "tags": [],
            "needs_background": "light"
          }
        }
      ]
    },
    {
      "cell_type": "code",
      "metadata": {
        "id": "jh7DKQwpWOtm",
        "colab_type": "code",
        "colab": {
          "base_uri": "https://localhost:8080/",
          "height": 282
        },
        "outputId": "6b5d54ec-3caa-4bf6-c361-9121745bb88c"
      },
      "source": [
        "plt.subplot(221)\n",
        "plt.bar(df[\"wage\"],color=\"blue\",height=50,width=0.5)\n",
        "plt.subplot\n",
        "plt.subplot(222)\n",
        "plt.bar(df[\"age\"],color=\"red\",height=65,width=0.5)\n",
        "plt.subplot(223)\n",
        "plt.bar(df[\"education\"],color=\"green\",height=20,width=0.5)\n",
        "plt.subplot(224)\n",
        "plt.bar(df[\"experience\"],color=\"yellow\",height=60,width=0.5)"
      ],
      "execution_count": 69,
      "outputs": [
        {
          "output_type": "execute_result",
          "data": {
            "text/plain": [
              "<BarContainer object of 534 artists>"
            ]
          },
          "metadata": {
            "tags": []
          },
          "execution_count": 69
        },
        {
          "output_type": "display_data",
          "data": {
            "image/png": "[encoded data removed]",
            "text/plain": [
              "<Figure size 432x288 with 4 Axes>"
            ]
          },
          "metadata": {
            "tags": [],
            "needs_background": "light"
          }
        }
      ]
    },
    {
      "cell_type": "code",
      "metadata": {
        "id": "epp4z0eccotu",
        "colab_type": "code",
        "colab": {
          "base_uri": "https://localhost:8080/",
          "height": 399
        },
        "outputId": "9ce38785-7f87-4665-9ffb-e9689f41c2af"
      },
      "source": [
        "plt.boxplot(df[\"wage\"], 0, 'gD')"
      ],
      "execution_count": 75,
      "outputs": [
        {
          "output_type": "execute_result",
          "data": {
            "text/plain": [
              "{'boxes': [<matplotlib.lines.Line2D at 0x7f91718a6630>],\n",
              " 'caps': [<matplotlib.lines.Line2D at 0x7f91718b2080>,\n",
              "  <matplotlib.lines.Line2D at 0x7f91718b2400>],\n",
              " 'fliers': [<matplotlib.lines.Line2D at 0x7f91718b2b00>],\n",
              " 'means': [],\n",
              " 'medians': [<matplotlib.lines.Line2D at 0x7f91718b2780>],\n",
              " 'whiskers': [<matplotlib.lines.Line2D at 0x7f91718a6940>,\n",
              "  <matplotlib.lines.Line2D at 0x7f91718a6cc0>]}"
            ]
          },
          "metadata": {
            "tags": []
          },
          "execution_count": 75
        },
        {
          "output_type": "display_data",
          "data": {
            "image/png": "[encoded data removed]",
            "text/plain": [
              "<Figure size 432x288 with 1 Axes>"
            ]
          },
          "metadata": {
            "tags": [],
            "needs_background": "light"
          }
        }
      ]
    },
    {
      "cell_type": "code",
      "metadata": {
        "id": "Ks510YJidcNz",
        "colab_type": "code",
        "colab": {
          "base_uri": "https://localhost:8080/",
          "height": 399
        },
        "outputId": "a7ae608b-f655-4c7c-e115-cd7dcf960036"
      },
      "source": [
        "plt.boxplot(df[\"age\"], 0, 'gD')"
      ],
      "execution_count": 74,
      "outputs": [
        {
          "output_type": "execute_result",
          "data": {
            "text/plain": [
              "{'boxes': [<matplotlib.lines.Line2D at 0x7f91718ea4a8>],\n",
              " 'caps': [<matplotlib.lines.Line2D at 0x7f91718eaeb8>,\n",
              "  <matplotlib.lines.Line2D at 0x7f91718e7278>],\n",
              " 'fliers': [<matplotlib.lines.Line2D at 0x7f91718e7978>],\n",
              " 'means': [],\n",
              " 'medians': [<matplotlib.lines.Line2D at 0x7f91718e75f8>],\n",
              " 'whiskers': [<matplotlib.lines.Line2D at 0x7f91718ea7b8>,\n",
              "  <matplotlib.lines.Line2D at 0x7f91718eab38>]}"
            ]
          },
          "metadata": {
            "tags": []
          },
          "execution_count": 74
        },
        {
          "output_type": "display_data",
          "data": {
            "image/png": "[encoded data removed]",
            "text/plain": [
              "<Figure size 432x288 with 1 Axes>"
            ]
          },
          "metadata": {
            "tags": [],
            "needs_background": "light"
          }
        }
      ]
    },
    {
      "cell_type": "code",
      "metadata": {
        "id": "vPkxok-qexM-",
        "colab_type": "code",
        "colab": {
          "base_uri": "https://localhost:8080/",
          "height": 399
        },
        "outputId": "5b345796-5e9c-4207-fb41-407bcc5a4eb2"
      },
      "source": [
        "plt.boxplot(df[\"experience\"], 0, 'gD')"
      ],
      "execution_count": 76,
      "outputs": [
        {
          "output_type": "execute_result",
          "data": {
            "text/plain": [
              "{'boxes': [<matplotlib.lines.Line2D at 0x7f917187a6d8>],\n",
              " 'caps': [<matplotlib.lines.Line2D at 0x7f9171887128>,\n",
              "  <matplotlib.lines.Line2D at 0x7f91718874a8>],\n",
              " 'fliers': [<matplotlib.lines.Line2D at 0x7f9171887ba8>],\n",
              " 'means': [],\n",
              " 'medians': [<matplotlib.lines.Line2D at 0x7f9171887828>],\n",
              " 'whiskers': [<matplotlib.lines.Line2D at 0x7f917187a9e8>,\n",
              "  <matplotlib.lines.Line2D at 0x7f917187ad68>]}"
            ]
          },
          "metadata": {
            "tags": []
          },
          "execution_count": 76
        },
        {
          "output_type": "display_data",
          "data": {
            "image/png": "[encoded data removed]",
            "text/plain": [
              "<Figure size 432x288 with 1 Axes>"
            ]
          },
          "metadata": {
            "tags": [],
            "needs_background": "light"
          }
        }
      ]
    },
    {
      "cell_type": "code",
      "metadata": {
        "id": "J_I-19V-e1Ir",
        "colab_type": "code",
        "colab": {
          "base_uri": "https://localhost:8080/",
          "height": 399
        },
        "outputId": "c1d6a7b6-a266-40f1-e731-c4d711882d04"
      },
      "source": [
        "plt.boxplot(df[\"education\"], 0, 'gD')"
      ],
      "execution_count": 77,
      "outputs": [
        {
          "output_type": "execute_result",
          "data": {
            "text/plain": [
              "{'boxes': [<matplotlib.lines.Line2D at 0x7f91717d6d30>],\n",
              " 'caps': [<matplotlib.lines.Line2D at 0x7f91717e5780>,\n",
              "  <matplotlib.lines.Line2D at 0x7f91717e5b00>],\n",
              " 'fliers': [<matplotlib.lines.Line2D at 0x7f91717f0240>],\n",
              " 'means': [],\n",
              " 'medians': [<matplotlib.lines.Line2D at 0x7f91717e5e80>],\n",
              " 'whiskers': [<matplotlib.lines.Line2D at 0x7f91717e5080>,\n",
              "  <matplotlib.lines.Line2D at 0x7f91717e5400>]}"
            ]
          },
          "metadata": {
            "tags": []
          },
          "execution_count": 77
        },
        {
          "output_type": "display_data",
          "data": {
            "image/png": "[encoded data removed]",
            "text/plain": [
              "<Figure size 432x288 with 1 Axes>"
            ]
          },
          "metadata": {
            "tags": [],
            "needs_background": "light"
          }
        }
      ]
    },
    {
      "cell_type": "code",
      "metadata": {
        "id": "PL9FIGPkfYk-",
        "colab_type": "code",
        "colab": {
          "base_uri": "https://localhost:8080/",
          "height": 483
        },
        "outputId": "f2b24a40-adc0-481a-f445-2f355d3cab65"
      },
      "source": [
        "fig, ax = plt.subplots(figsize=(16,8))\n",
        "ax.scatter(df['wage'], df['education'])\n",
        "plt.show()"
      ],
      "execution_count": 80,
      "outputs": [
        {
          "output_type": "display_data",
          "data": {
            "image/png": "[encoded data removed]",
            "text/plain": [
              "<Figure size 1152x576 with 1 Axes>"
            ]
          },
          "metadata": {
            "tags": [],
            "needs_background": "light"
          }
        }
      ]
    },
    {
      "cell_type": "code",
      "metadata": {
        "id": "g1if7M4No7DK",
        "colab_type": "code",
        "colab": {}
      },
      "source": [
        "import numpy as np\n",
        "def outliers(df): \n",
        "    q1, q3= np.percentile(df,[25,75])\n",
        "    iqr = q3 - q1\n",
        "    lower_bound = q1 -(1.5 * iqr) \n",
        "    upper_bound = q3 +(1.5 * iqr)\n",
        "    return np.where((df > upper_bound and df < lower_bound))\n",
        "    print(outliers)"
      ],
      "execution_count": 99,
      "outputs": []
    }
  ]
}