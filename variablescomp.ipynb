{
  "nbformat": 4,
  "nbformat_minor": 0,
  "metadata": {
    "colab": {
      "name": "variablescomp.ipynb",
      "provenance": [],
      "collapsed_sections": [],
      "authorship_tag": "ABX9TyONC+CGFgahPoWRGFE0Ypee",
      "include_colab_link": true
    },
    "kernelspec": {
      "name": "python3",
      "display_name": "Python 3"
    }
  },
  "cells": [
    {
      "cell_type": "markdown",
      "metadata": {
        "id": "view-in-github",
        "colab_type": "text"
      },
      "source": [
        "<a href=\"https://colab.research.google.com/github/MauriDeluca/pandas/blob/master/variablescomp.ipynb\" target=\"_parent\"><img src=\"https://colab.research.google.com/assets/colab-badge.svg\" alt=\"Open In Colab\"/></a>"
      ]
    },
    {
      "cell_type": "code",
      "metadata": {
        "id": "QCJXdUjNFU3R"
      },
      "source": [
        "import pandas as pd\n",
        "import matplotlib.pyplot as plt\n",
        "import numpy as np\n",
        "import seaborn as sns"
      ],
      "execution_count": 126,
      "outputs": []
    },
    {
      "cell_type": "code",
      "metadata": {
        "id": "Ir6U7OIAFbfT",
        "outputId": "9c081cd9-8495-4456-e9bf-495bbd1501a8",
        "colab": {
          "base_uri": "https://localhost:8080/",
          "height": 235
        }
      },
      "source": [
        "url = \"https://raw.githubusercontent.com/MauriDeluca/pandas/master/CPS1985.csv\"\n",
        "df = pd.read_csv(url)\n",
        "print(df.head(10))\n",
        "df.drop(df.columns[0], axis='columns', inplace=True)"
      ],
      "execution_count": 127,
      "outputs": [
        {
          "output_type": "stream",
          "text": [
            "   Unnamed: 0   wage  education  ...         sector  union married\n",
            "0           1   5.10          8  ...  manufacturing     no     yes\n",
            "1        1100   4.95          9  ...  manufacturing     no     yes\n",
            "2           2   6.67         12  ...  manufacturing     no      no\n",
            "3           3   4.00         12  ...          other     no      no\n",
            "4           4   7.50         12  ...          other     no     yes\n",
            "5           5  13.07         13  ...          other    yes      no\n",
            "6           6   4.45         10  ...          other     no      no\n",
            "7           7  19.47         12  ...          other     no      no\n",
            "8           8  13.28         16  ...  manufacturing     no     yes\n",
            "9           9   8.75         12  ...          other     no      no\n",
            "\n",
            "[10 rows x 12 columns]\n"
          ],
          "name": "stdout"
        }
      ]
    },
    {
      "cell_type": "code",
      "metadata": {
        "id": "DZQ4Z4i6FgaE"
      },
      "source": [
        "Q1 = df.quantile(0.25)\n",
        "Q3 = df.quantile(0.95)\n",
        "IQR = Q3 - Q1\n",
        "\n",
        "df1 = df[~((df < (Q1 - 1.5 * IQR)) |(df > (Q3 + 1.5 * IQR))).any(axis=1)]"
      ],
      "execution_count": 128,
      "outputs": []
    },
    {
      "cell_type": "code",
      "metadata": {
        "id": "ZBIk7YGDFnUa",
        "outputId": "776bb6fa-a67b-48e3-b2d0-010e900943eb",
        "colab": {
          "base_uri": "https://localhost:8080/",
          "height": 34
        }
      },
      "source": [
        "df1.shape"
      ],
      "execution_count": 129,
      "outputs": [
        {
          "output_type": "execute_result",
          "data": {
            "text/plain": [
              "(532, 11)"
            ]
          },
          "metadata": {
            "tags": []
          },
          "execution_count": 129
        }
      ]
    },
    {
      "cell_type": "code",
      "metadata": {
        "id": "fg6KKDkqFzNj",
        "outputId": "17faa465-38f1-439c-9743-46ff4a3323f8",
        "colab": {
          "base_uri": "https://localhost:8080/",
          "height": 722
        }
      },
      "source": [
        "from sklearn.preprocessing import LabelEncoder\n",
        "encoder = LabelEncoder()\n",
        "df1[\"gender\"] = encoder.fit_transform(df1[\"gender\"]) #0 female #1 male\n",
        "df1[\"union\"] = encoder.fit_transform(df1[\"union\"]) #0 no  #1 yes\n",
        "df1[\"sector\"] = encoder.fit_transform(df1[\"sector\"])#0 construction   #1 manufacturing #2 other\n",
        "df1[\"married\"] = encoder.fit_transform(df1[\"married\"]) #0 no #1 yes\n",
        "df1[\"occupation\"] = encoder.fit_transform(df1[\"occupation\"]) #0 management #1 office #2 sales #3 services #4technical #5 worker\n",
        "df1[\"ethnicity\"] = encoder.fit_transform(df1[\"ethnicity\"]) #0 cauc #1 hispanic #2 other\n",
        "df1[\"region\"] = encoder.fit_transform(df1[\"region\"]) #0 other   #1 south"
      ],
      "execution_count": 130,
      "outputs": [
        {
          "output_type": "stream",
          "text": [
            "/usr/local/lib/python3.6/dist-packages/ipykernel_launcher.py:3: SettingWithCopyWarning: \n",
            "A value is trying to be set on a copy of a slice from a DataFrame.\n",
            "Try using .loc[row_indexer,col_indexer] = value instead\n",
            "\n",
            "See the caveats in the documentation: https://pandas.pydata.org/pandas-docs/stable/user_guide/indexing.html#returning-a-view-versus-a-copy\n",
            "  This is separate from the ipykernel package so we can avoid doing imports until\n",
            "/usr/local/lib/python3.6/dist-packages/ipykernel_launcher.py:4: SettingWithCopyWarning: \n",
            "A value is trying to be set on a copy of a slice from a DataFrame.\n",
            "Try using .loc[row_indexer,col_indexer] = value instead\n",
            "\n",
            "See the caveats in the documentation: https://pandas.pydata.org/pandas-docs/stable/user_guide/indexing.html#returning-a-view-versus-a-copy\n",
            "  after removing the cwd from sys.path.\n",
            "/usr/local/lib/python3.6/dist-packages/ipykernel_launcher.py:5: SettingWithCopyWarning: \n",
            "A value is trying to be set on a copy of a slice from a DataFrame.\n",
            "Try using .loc[row_indexer,col_indexer] = value instead\n",
            "\n",
            "See the caveats in the documentation: https://pandas.pydata.org/pandas-docs/stable/user_guide/indexing.html#returning-a-view-versus-a-copy\n",
            "  \"\"\"\n",
            "/usr/local/lib/python3.6/dist-packages/ipykernel_launcher.py:6: SettingWithCopyWarning: \n",
            "A value is trying to be set on a copy of a slice from a DataFrame.\n",
            "Try using .loc[row_indexer,col_indexer] = value instead\n",
            "\n",
            "See the caveats in the documentation: https://pandas.pydata.org/pandas-docs/stable/user_guide/indexing.html#returning-a-view-versus-a-copy\n",
            "  \n",
            "/usr/local/lib/python3.6/dist-packages/ipykernel_launcher.py:7: SettingWithCopyWarning: \n",
            "A value is trying to be set on a copy of a slice from a DataFrame.\n",
            "Try using .loc[row_indexer,col_indexer] = value instead\n",
            "\n",
            "See the caveats in the documentation: https://pandas.pydata.org/pandas-docs/stable/user_guide/indexing.html#returning-a-view-versus-a-copy\n",
            "  import sys\n",
            "/usr/local/lib/python3.6/dist-packages/ipykernel_launcher.py:8: SettingWithCopyWarning: \n",
            "A value is trying to be set on a copy of a slice from a DataFrame.\n",
            "Try using .loc[row_indexer,col_indexer] = value instead\n",
            "\n",
            "See the caveats in the documentation: https://pandas.pydata.org/pandas-docs/stable/user_guide/indexing.html#returning-a-view-versus-a-copy\n",
            "  \n",
            "/usr/local/lib/python3.6/dist-packages/ipykernel_launcher.py:9: SettingWithCopyWarning: \n",
            "A value is trying to be set on a copy of a slice from a DataFrame.\n",
            "Try using .loc[row_indexer,col_indexer] = value instead\n",
            "\n",
            "See the caveats in the documentation: https://pandas.pydata.org/pandas-docs/stable/user_guide/indexing.html#returning-a-view-versus-a-copy\n",
            "  if __name__ == '__main__':\n"
          ],
          "name": "stderr"
        }
      ]
    },
    {
      "cell_type": "code",
      "metadata": {
        "id": "KNcOYdlsF42S",
        "outputId": "6176a4f5-bf47-4cb3-d52c-2dc87481ea15",
        "colab": {
          "base_uri": "https://localhost:8080/",
          "height": 343
        }
      },
      "source": [
        "df1.head(10)"
      ],
      "execution_count": 131,
      "outputs": [
        {
          "output_type": "execute_result",
          "data": {
            "text/html": [
              "<div>\n",
              "<style scoped>\n",
              "    .dataframe tbody tr th:only-of-type {\n",
              "        vertical-align: middle;\n",
              "    }\n",
              "\n",
              "    .dataframe tbody tr th {\n",
              "        vertical-align: top;\n",
              "    }\n",
              "\n",
              "    .dataframe thead th {\n",
              "        text-align: right;\n",
              "    }\n",
              "</style>\n",
              "<table border=\"1\" class=\"dataframe\">\n",
              "  <thead>\n",
              "    <tr style=\"text-align: right;\">\n",
              "      <th></th>\n",
              "      <th>wage</th>\n",
              "      <th>education</th>\n",
              "      <th>experience</th>\n",
              "      <th>age</th>\n",
              "      <th>ethnicity</th>\n",
              "      <th>region</th>\n",
              "      <th>gender</th>\n",
              "      <th>occupation</th>\n",
              "      <th>sector</th>\n",
              "      <th>union</th>\n",
              "      <th>married</th>\n",
              "    </tr>\n",
              "  </thead>\n",
              "  <tbody>\n",
              "    <tr>\n",
              "      <th>0</th>\n",
              "      <td>5.10</td>\n",
              "      <td>8</td>\n",
              "      <td>21</td>\n",
              "      <td>35</td>\n",
              "      <td>1</td>\n",
              "      <td>0</td>\n",
              "      <td>0</td>\n",
              "      <td>5</td>\n",
              "      <td>1</td>\n",
              "      <td>0</td>\n",
              "      <td>1</td>\n",
              "    </tr>\n",
              "    <tr>\n",
              "      <th>1</th>\n",
              "      <td>4.95</td>\n",
              "      <td>9</td>\n",
              "      <td>42</td>\n",
              "      <td>57</td>\n",
              "      <td>0</td>\n",
              "      <td>0</td>\n",
              "      <td>0</td>\n",
              "      <td>5</td>\n",
              "      <td>1</td>\n",
              "      <td>0</td>\n",
              "      <td>1</td>\n",
              "    </tr>\n",
              "    <tr>\n",
              "      <th>2</th>\n",
              "      <td>6.67</td>\n",
              "      <td>12</td>\n",
              "      <td>1</td>\n",
              "      <td>19</td>\n",
              "      <td>0</td>\n",
              "      <td>0</td>\n",
              "      <td>1</td>\n",
              "      <td>5</td>\n",
              "      <td>1</td>\n",
              "      <td>0</td>\n",
              "      <td>0</td>\n",
              "    </tr>\n",
              "    <tr>\n",
              "      <th>3</th>\n",
              "      <td>4.00</td>\n",
              "      <td>12</td>\n",
              "      <td>4</td>\n",
              "      <td>22</td>\n",
              "      <td>0</td>\n",
              "      <td>0</td>\n",
              "      <td>1</td>\n",
              "      <td>5</td>\n",
              "      <td>2</td>\n",
              "      <td>0</td>\n",
              "      <td>0</td>\n",
              "    </tr>\n",
              "    <tr>\n",
              "      <th>4</th>\n",
              "      <td>7.50</td>\n",
              "      <td>12</td>\n",
              "      <td>17</td>\n",
              "      <td>35</td>\n",
              "      <td>0</td>\n",
              "      <td>0</td>\n",
              "      <td>1</td>\n",
              "      <td>5</td>\n",
              "      <td>2</td>\n",
              "      <td>0</td>\n",
              "      <td>1</td>\n",
              "    </tr>\n",
              "    <tr>\n",
              "      <th>5</th>\n",
              "      <td>13.07</td>\n",
              "      <td>13</td>\n",
              "      <td>9</td>\n",
              "      <td>28</td>\n",
              "      <td>0</td>\n",
              "      <td>0</td>\n",
              "      <td>1</td>\n",
              "      <td>5</td>\n",
              "      <td>2</td>\n",
              "      <td>1</td>\n",
              "      <td>0</td>\n",
              "    </tr>\n",
              "    <tr>\n",
              "      <th>6</th>\n",
              "      <td>4.45</td>\n",
              "      <td>10</td>\n",
              "      <td>27</td>\n",
              "      <td>43</td>\n",
              "      <td>0</td>\n",
              "      <td>1</td>\n",
              "      <td>1</td>\n",
              "      <td>5</td>\n",
              "      <td>2</td>\n",
              "      <td>0</td>\n",
              "      <td>0</td>\n",
              "    </tr>\n",
              "    <tr>\n",
              "      <th>7</th>\n",
              "      <td>19.47</td>\n",
              "      <td>12</td>\n",
              "      <td>9</td>\n",
              "      <td>27</td>\n",
              "      <td>0</td>\n",
              "      <td>0</td>\n",
              "      <td>1</td>\n",
              "      <td>5</td>\n",
              "      <td>2</td>\n",
              "      <td>0</td>\n",
              "      <td>0</td>\n",
              "    </tr>\n",
              "    <tr>\n",
              "      <th>8</th>\n",
              "      <td>13.28</td>\n",
              "      <td>16</td>\n",
              "      <td>11</td>\n",
              "      <td>33</td>\n",
              "      <td>0</td>\n",
              "      <td>0</td>\n",
              "      <td>1</td>\n",
              "      <td>5</td>\n",
              "      <td>1</td>\n",
              "      <td>0</td>\n",
              "      <td>1</td>\n",
              "    </tr>\n",
              "    <tr>\n",
              "      <th>9</th>\n",
              "      <td>8.75</td>\n",
              "      <td>12</td>\n",
              "      <td>9</td>\n",
              "      <td>27</td>\n",
              "      <td>0</td>\n",
              "      <td>0</td>\n",
              "      <td>1</td>\n",
              "      <td>5</td>\n",
              "      <td>2</td>\n",
              "      <td>0</td>\n",
              "      <td>0</td>\n",
              "    </tr>\n",
              "  </tbody>\n",
              "</table>\n",
              "</div>"
            ],
            "text/plain": [
              "    wage  education  experience  age  ...  occupation  sector  union  married\n",
              "0   5.10          8          21   35  ...           5       1      0        1\n",
              "1   4.95          9          42   57  ...           5       1      0        1\n",
              "2   6.67         12           1   19  ...           5       1      0        0\n",
              "3   4.00         12           4   22  ...           5       2      0        0\n",
              "4   7.50         12          17   35  ...           5       2      0        1\n",
              "5  13.07         13           9   28  ...           5       2      1        0\n",
              "6   4.45         10          27   43  ...           5       2      0        0\n",
              "7  19.47         12           9   27  ...           5       2      0        0\n",
              "8  13.28         16          11   33  ...           5       1      0        1\n",
              "9   8.75         12           9   27  ...           5       2      0        0\n",
              "\n",
              "[10 rows x 11 columns]"
            ]
          },
          "metadata": {
            "tags": []
          },
          "execution_count": 131
        }
      ]
    },
    {
      "cell_type": "code",
      "metadata": {
        "id": "91BPwB8iGlfO",
        "outputId": "1ddeeed3-7ccc-4932-d257-ccaee3ba2157",
        "colab": {
          "base_uri": "https://localhost:8080/",
          "height": 34
        }
      },
      "source": [
        "from sklearn.preprocessing import MinMaxScaler\n",
        "data = df1\n",
        "scaler = MinMaxScaler()\n",
        "print(scaler.fit(data))\n",
        "MinMaxScaler()\n",
        "dfnorm = scaler.transform(data)"
      ],
      "execution_count": 132,
      "outputs": [
        {
          "output_type": "stream",
          "text": [
            "MinMaxScaler(copy=True, feature_range=(0, 1))\n"
          ],
          "name": "stdout"
        }
      ]
    },
    {
      "cell_type": "code",
      "metadata": {
        "id": "C5vdYLokGYpG",
        "outputId": "dfba6ced-9196-40a7-9212-ed251ff80268",
        "colab": {
          "base_uri": "https://localhost:8080/",
          "height": 447
        }
      },
      "source": [
        "\n",
        "import scipy.cluster.hierarchy as shc\n",
        "\n",
        "plt.figure(figsize=(10, 7))  \n",
        "plt.title(\"Dendograma\")  \n",
        "dend = shc.dendrogram(shc.linkage(dfnorm, method='ward'))  "
      ],
      "execution_count": 133,
      "outputs": [
        {
          "output_type": "display_data",
          "data": {
            "image/png": "[encoded data removed]",
            "text/plain": [
              "<Figure size 720x504 with 1 Axes>"
            ]
          },
          "metadata": {
            "tags": []
          }
        }
      ]
    },
    {
      "cell_type": "code",
      "metadata": {
        "id": "A6_pC30RHNEc",
        "outputId": "9cb667e9-af97-41e2-8f92-cdda7423dfb1",
        "colab": {
          "base_uri": "https://localhost:8080/",
          "height": 269
        }
      },
      "source": [
        "from sklearn.cluster import AgglomerativeClustering\n",
        "\n",
        "cluster = AgglomerativeClustering(n_clusters=6, affinity='euclidean', linkage='ward')  \n",
        "categorias = cluster.fit_predict(data)\n",
        "print(categorias)"
      ],
      "execution_count": 134,
      "outputs": [
        {
          "output_type": "stream",
          "text": [
            "[1 0 2 2 1 1 5 1 4 2 1 1 5 5 3 0 0 3 1 3 1 0 2 1 5 0 2 5 2 2 1 0 1 2 1 0 1\n",
            " 0 2 1 2 1 1 1 2 1 4 1 5 2 2 1 2 1 2 1 1 1 5 5 1 5 0 2 2 5 1 1 0 0 2 3 1 2\n",
            " 0 0 5 1 1 3 1 1 0 1 2 1 1 1 2 0 2 5 2 1 3 2 1 3 1 1 1 1 2 5 4 1 3 0 2 0 1\n",
            " 1 0 2 5 2 1 1 1 1 2 1 5 1 2 2 5 1 2 1 2 2 1 2 1 2 2 0 0 2 1 1 1 5 5 0 2 0\n",
            " 1 2 5 5 2 1 2 1 3 3 2 2 5 3 1 1 5 2 4 2 3 5 0 2 0 5 1 3 4 0 5 3 2 4 4 3 4\n",
            " 1 5 1 1 0 1 2 1 1 2 5 1 3 5 0 2 4 2 2 2 3 1 1 5 4 0 1 4 3 2 5 0 2 1 5 5 0\n",
            " 2 1 2 1 0 2 1 0 2 1 2 2 1 3 1 3 0 5 2 2 5 1 2 0 2 1 1 2 2 5 1 5 2 1 5 1 1\n",
            " 1 5 0 1 1 5 2 5 0 1 0 2 1 5 2 5 2 2 0 2 2 2 5 2 2 1 0 5 0 2 5 2 1 2 0 5 1\n",
            " 1 2 1 5 2 1 0 2 5 1 1 2 2 2 2 2 1 2 2 1 5 5 0 1 2 1 5 0 2 0 1 2 0 1 0 2 0\n",
            " 1 5 1 1 0 2 0 2 2 2 1 1 0 1 5 5 5 1 0 0 0 1 0 2 1 2 1 1 1 2 2 2 1 0 1 0 0\n",
            " 1 1 1 2 2 2 2 2 5 5 1 2 1 2 1 5 0 0 5 2 1 1 1 2 0 2 2 5 5 1 2 0 2 0 2 0 2\n",
            " 4 0 0 1 0 2 2 5 5 2 2 5 1 1 1 2 0 0 1 0 0 4 3 2 4 5 4 4 2 1 2 1 0 2 2 4 4\n",
            " 2 2 1 4 1 4 5 1 1 1 1 1 2 4 5 5 1 1 2 1 1 1 0 1 4 1 1 2 1 5 2 5 2 4 2 0 0\n",
            " 1 4 0 3 2 4 1 5 4 3 1 4 2 0 5 2 0 1 0 3 2 4 2 1 4 1 5 1 4 5 0 1 1 4 5 2 2\n",
            " 2 3 2 2 0 2 1 1 2 2 0 3 4 0]\n"
          ],
          "name": "stdout"
        }
      ]
    },
    {
      "cell_type": "code",
      "metadata": {
        "id": "11cV7BXaHWMy",
        "outputId": "d69f7e0f-3a95-4b00-c17d-5a366b93dd69",
        "colab": {
          "base_uri": "https://localhost:8080/",
          "height": 252
        }
      },
      "source": [
        "df1 = df1.assign(ClustCateg = categorias)\n",
        "print(df1)"
      ],
      "execution_count": 135,
      "outputs": [
        {
          "output_type": "stream",
          "text": [
            "      wage  education  experience  age  ...  sector  union  married  ClustCateg\n",
            "0     5.10          8          21   35  ...       1      0        1           1\n",
            "1     4.95          9          42   57  ...       1      0        1           0\n",
            "2     6.67         12           1   19  ...       1      0        0           2\n",
            "3     4.00         12           4   22  ...       2      0        0           2\n",
            "4     7.50         12          17   35  ...       2      0        1           1\n",
            "..     ...        ...         ...  ...  ...     ...    ...      ...         ...\n",
            "529  11.36         18           5   29  ...       2      0        0           2\n",
            "530   6.10         12          33   51  ...       2      0        1           0\n",
            "531  23.25         17          25   48  ...       2      1        1           3\n",
            "532  19.88         12          13   31  ...       2      1        1           4\n",
            "533  15.38         16          33   55  ...       1      0        1           0\n",
            "\n",
            "[532 rows x 12 columns]\n"
          ],
          "name": "stdout"
        }
      ]
    },
    {
      "cell_type": "code",
      "metadata": {
        "id": "EZObuh21HY42",
        "outputId": "093ba8fd-6191-4383-b670-e5c72101c075",
        "colab": {
          "base_uri": "https://localhost:8080/",
          "height": 481
        }
      },
      "source": [
        "plt.figure(figsize=(12, 7))  \n",
        "plt.scatter(dfnorm[:,0], dfnorm[:,3], c=cluster.labels_, cmap='rainbow')\n",
        "plt.xlabel(\"Salario\")\n",
        "plt.ylabel(\"Edad\")\n",
        "plt.title(\"Clustering\")"
      ],
      "execution_count": 136,
      "outputs": [
        {
          "output_type": "execute_result",
          "data": {
            "text/plain": [
              "Text(0.5, 1.0, 'Clustering')"
            ]
          },
          "metadata": {
            "tags": []
          },
          "execution_count": 136
        },
        {
          "output_type": "display_data",
          "data": {
            "image/png": "[encoded data removed]",
            "text/plain": [
              "<Figure size 864x504 with 1 Axes>"
            ]
          },
          "metadata": {
            "tags": []
          }
        }
      ]
    },
    {
      "cell_type": "markdown",
      "metadata": {
        "id": "qzT53bIRH9Wi"
      },
      "source": [
        "KMEANS\n"
      ]
    },
    {
      "cell_type": "code",
      "metadata": {
        "id": "1a70q-YaHzEK"
      },
      "source": [
        "import numpy as np\n",
        "import pandas as pd\n",
        "import matplotlib.pyplot as plt\n",
        "from sklearn.cluster import KMeans"
      ],
      "execution_count": 137,
      "outputs": []
    },
    {
      "cell_type": "code",
      "metadata": {
        "id": "2ggpwPQTIAUD",
        "outputId": "8f8fcf3b-a280-4d7c-9669-3647e943188c",
        "colab": {
          "base_uri": "https://localhost:8080/",
          "height": 464
        }
      },
      "source": [
        "Error =[]\n",
        "for i in range(1, 16):\n",
        "    kmeans = KMeans(n_clusters = i).fit(dfnorm)\n",
        "    kmeans.fit(dfnorm)\n",
        "    Error.append(kmeans.inertia_)\n",
        "plt.figure(figsize=(12, 7))\n",
        "plt.plot(range(1, 16), Error, marker= \"o\")\n",
        "plt.title('Elbow method')\n",
        "plt.xlabel('N of clusters')\n",
        "plt.ylabel('Error')\n",
        "plt.show()"
      ],
      "execution_count": 138,
      "outputs": [
        {
          "output_type": "display_data",
          "data": {
            "image/png": "[encoded data removed]",
            "text/plain": [
              "<Figure size 864x504 with 1 Axes>"
            ]
          },
          "metadata": {
            "tags": []
          }
        }
      ]
    },
    {
      "cell_type": "code",
      "metadata": {
        "id": "QoCteIg8JC90",
        "outputId": "feb7f66a-edef-48d7-c63f-8f6a5fcfe595",
        "colab": {
          "base_uri": "https://localhost:8080/",
          "height": 319
        }
      },
      "source": [
        "import matplotlib.pyplot as plt\n",
        "from sklearn.cluster import KMeans\n",
        "from sklearn.metrics import silhouette_score\n",
        "range_n_clusters = list (range(2,20))\n",
        "for n_clusters in range_n_clusters:\n",
        "    clusterer = KMeans(n_clusters=n_clusters)\n",
        "    preds = clusterer.fit_predict(dfnorm)\n",
        "    centers = clusterer.cluster_centers_\n",
        "\n",
        "    score = silhouette_score(dfnorm, preds)\n",
        "    print(\"For n_clusters = {}, silhouette score is {})\".format(n_clusters, score))"
      ],
      "execution_count": 139,
      "outputs": [
        {
          "output_type": "stream",
          "text": [
            "For n_clusters = 2, silhouette score is 0.2061139650229339)\n",
            "For n_clusters = 3, silhouette score is 0.21298434585454498)\n",
            "For n_clusters = 4, silhouette score is 0.2113813205400766)\n",
            "For n_clusters = 5, silhouette score is 0.24549934078258437)\n",
            "For n_clusters = 6, silhouette score is 0.23843838904022646)\n",
            "For n_clusters = 7, silhouette score is 0.25750676713511866)\n",
            "For n_clusters = 8, silhouette score is 0.2810574893948057)\n",
            "For n_clusters = 9, silhouette score is 0.27969338436927504)\n",
            "For n_clusters = 10, silhouette score is 0.2925141733957039)\n",
            "For n_clusters = 11, silhouette score is 0.2995299926173459)\n",
            "For n_clusters = 12, silhouette score is 0.2732953898636102)\n",
            "For n_clusters = 13, silhouette score is 0.26192711368003607)\n",
            "For n_clusters = 14, silhouette score is 0.26711707577167165)\n",
            "For n_clusters = 15, silhouette score is 0.2794874949490942)\n",
            "For n_clusters = 16, silhouette score is 0.2629940680219378)\n",
            "For n_clusters = 17, silhouette score is 0.27426427122657204)\n",
            "For n_clusters = 18, silhouette score is 0.2742563236594335)\n",
            "For n_clusters = 19, silhouette score is 0.2873828017968936)\n"
          ],
          "name": "stdout"
        }
      ]
    },
    {
      "cell_type": "code",
      "metadata": {
        "id": "V5VmarJuL9gV",
        "outputId": "64793a49-c072-4b6a-edfe-5cb0324738d8",
        "colab": {
          "base_uri": "https://localhost:8080/",
          "height": 941
        }
      },
      "source": [
        "kmeans = KMeans(n_clusters=10)\n",
        "y_kmeans = kmeans.fit_predict(dfnorm)\n",
        "print(y_kmeans)\n",
        "\n",
        "kmeans.cluster_centers_"
      ],
      "execution_count": 140,
      "outputs": [
        {
          "output_type": "stream",
          "text": [
            "[0 0 3 3 1 6 5 3 1 3 6 6 7 5 7 1 7 6 3 1 6 6 3 7 1 7 1 1 0 1 3 9 1 9 3 3 7\n",
            " 6 3 7 3 6 1 0 5 4 1 5 6 1 1 6 0 0 3 2 3 1 6 0 3 6 7 5 6 1 6 6 0 6 5 6 1 7\n",
            " 4 6 4 6 1 6 3 6 2 9 6 3 6 0 9 6 7 1 3 8 1 6 0 6 0 1 6 1 3 1 2 7 6 7 6 1 6\n",
            " 3 6 3 7 6 3 6 0 1 6 2 1 6 5 5 4 1 8 5 5 3 1 3 3 7 3 7 1 1 7 1 6 6 6 7 2 6\n",
            " 6 7 9 1 7 5 5 1 1 7 3 9 4 3 0 3 0 3 3 6 7 0 1 2 0 3 1 0 1 0 7 1 5 3 3 1 7\n",
            " 0 1 3 0 0 7 0 9 1 6 0 1 3 1 7 1 5 9 0 0 1 0 0 6 1 0 1 1 3 3 4 1 0 8 7 8 0\n",
            " 5 7 0 1 0 4 9 7 4 2 1 0 1 0 0 1 6 8 2 3 7 1 5 1 3 1 0 4 0 2 8 0 2 1 2 4 2\n",
            " 9 0 0 0 4 0 4 0 0 6 0 7 8 8 9 9 3 2 0 7 7 0 4 9 5 0 0 0 8 3 2 3 0 5 3 2 0\n",
            " 4 2 1 2 2 0 0 2 6 3 9 4 0 9 5 9 1 2 5 2 0 8 4 4 9 6 9 0 0 0 0 2 4 0 2 0 0\n",
            " 4 3 0 0 1 0 2 2 4 5 8 4 1 1 8 9 2 0 8 8 3 2 0 3 6 0 1 0 2 0 5 1 7 8 5 2 0\n",
            " 0 0 3 2 6 2 4 9 6 0 2 4 4 5 7 6 8 2 0 0 1 0 1 5 8 3 2 4 6 0 9 2 3 6 8 9 3\n",
            " 6 6 7 4 6 3 5 2 6 2 2 8 3 4 6 1 9 6 7 2 6 1 1 2 7 1 1 1 2 7 6 0 2 1 2 7 1\n",
            " 0 1 6 2 4 0 0 3 7 1 0 2 5 1 0 0 2 5 0 2 0 2 6 4 1 1 6 0 7 7 3 1 1 6 1 1 7\n",
            " 6 3 2 3 2 0 0 1 2 4 0 9 3 2 6 4 2 6 0 1 0 2 2 0 1 0 6 0 1 6 6 1 2 3 9 0 4\n",
            " 6 1 6 7 8 0 3 7 2 3 8 8 6 1]\n"
          ],
          "name": "stdout"
        },
        {
          "output_type": "execute_result",
          "data": {
            "text/plain": [
              "array([[ 2.75866614e-01,  6.74747475e-01,  3.55188246e-01,\n",
              "         4.49055775e-01,  2.52525253e-02,  2.22044605e-16,\n",
              "        -5.55111512e-16,  4.56565657e-01,  8.98989899e-01,\n",
              "         3.03030303e-02,  1.00000000e+00],\n",
              "       [ 3.99100768e-01,  7.13857678e-01,  3.32175689e-01,\n",
              "         4.34294089e-01,  6.17977528e-02,  2.22044605e-16,\n",
              "         1.00000000e+00,  6.67415730e-01,  8.31460674e-01,\n",
              "         3.33066907e-16,  1.00000000e+00],\n",
              "       [ 2.96011876e-01,  6.97076023e-01,  3.11004785e-01,\n",
              "         4.01983219e-01,  7.89473684e-02,  1.66533454e-16,\n",
              "         4.44089210e-16,  5.61403509e-01,  9.03508772e-01,\n",
              "         1.75438596e-01, -2.22044605e-16],\n",
              "       [ 3.01330792e-01,  6.80874317e-01,  2.01490313e-01,\n",
              "         2.67284391e-01,  1.88524590e-01,  1.66533454e-16,\n",
              "         1.00000000e+00,  6.39344262e-01,  8.52459016e-01,\n",
              "         2.77555756e-16,  0.00000000e+00],\n",
              "       [ 2.14289245e-01,  6.35416667e-01,  3.06250000e-01,\n",
              "         3.77717391e-01,  4.68750000e-02,  1.00000000e+00,\n",
              "        -2.22044605e-16,  4.81250000e-01,  9.06250000e-01,\n",
              "         6.25000000e-02,  1.00000000e+00],\n",
              "       [ 2.26769474e-01,  6.61904762e-01,  1.48051948e-01,\n",
              "         1.97204969e-01,  2.32142857e-01,  1.00000000e+00,\n",
              "         1.00000000e+00,  6.57142857e-01,  8.57142857e-01,\n",
              "         1.07142857e-01, -5.55111512e-16],\n",
              "       [ 4.03722228e-01,  6.50450450e-01,  3.89434889e-01,\n",
              "         4.82079906e-01,  2.16216216e-01,  1.89189189e-01,\n",
              "         8.78378378e-01,  8.13513514e-01,  7.63513514e-01,\n",
              "         1.00000000e+00,  8.51351351e-01],\n",
              "       [ 3.40749528e-01,  6.05925926e-01,  4.00000000e-01,\n",
              "         4.80193237e-01,  1.44444444e-01,  1.00000000e+00,\n",
              "         1.00000000e+00,  6.84444444e-01,  8.22222222e-01,\n",
              "         1.94289029e-16,  1.00000000e+00],\n",
              "       [ 2.66652288e-01,  6.09090909e-01,  4.79338843e-01,\n",
              "         5.76086957e-01,  9.77272727e-01,  5.45454545e-01,\n",
              "        -3.33066907e-16,  5.27272727e-01,  9.54545455e-01,\n",
              "         1.81818182e-01,  1.00000000e+00],\n",
              "       [ 2.09315935e-01,  6.69333333e-01,  2.66909091e-01,\n",
              "         3.41739130e-01,  1.60000000e-01,  1.00000000e+00,\n",
              "        -3.33066907e-16,  4.72000000e-01,  9.80000000e-01,\n",
              "         2.77555756e-17, -4.44089210e-16]])"
            ]
          },
          "metadata": {
            "tags": []
          },
          "execution_count": 140
        }
      ]
    },
    {
      "cell_type": "code",
      "metadata": {
        "id": "uaBreOUbMHc9",
        "outputId": "1555edba-ab44-4b0b-b334-5e69217404ab",
        "colab": {
          "base_uri": "https://localhost:8080/",
          "height": 465
        }
      },
      "source": [
        "plt.figure(figsize=(12, 7))\n",
        "plt.scatter(dfnorm[:,0],dfnorm[:,2], c=y_kmeans, cmap=\"rainbow\")\n",
        "plt.xlabel(\"Salario\")\n",
        "plt.ylabel(\"Experiencia\")"
      ],
      "execution_count": 141,
      "outputs": [
        {
          "output_type": "execute_result",
          "data": {
            "text/plain": [
              "Text(0, 0.5, 'Experiencia')"
            ]
          },
          "metadata": {
            "tags": []
          },
          "execution_count": 141
        },
        {
          "output_type": "display_data",
          "data": {
            "image/png": "[encoded data removed]",
            "text/plain": [
              "<Figure size 864x504 with 1 Axes>"
            ]
          },
          "metadata": {
            "tags": []
          }
        }
      ]
    },
    {
      "cell_type": "code",
      "metadata": {
        "id": "UVZTD-6gMeP-",
        "outputId": "c811cd8b-e8b3-4faf-9435-3fa45bd5b4f3",
        "colab": {
          "base_uri": "https://localhost:8080/",
          "height": 343
        }
      },
      "source": [
        "from scipy.stats import norm, skew\n",
        "numerical = df1.dtypes[df1.dtypes != 'object'].index\n",
        "\n",
        "skewness = df1[numerical].apply(lambda x: skew(x.dropna())).sort_values(ascending=False)\n",
        "\n",
        "skewness_df = pd.DataFrame({'Skewness': skewness})\n",
        "skewness_df.head(10)"
      ],
      "execution_count": 142,
      "outputs": [
        {
          "output_type": "execute_result",
          "data": {
            "text/html": [
              "<div>\n",
              "<style scoped>\n",
              "    .dataframe tbody tr th:only-of-type {\n",
              "        vertical-align: middle;\n",
              "    }\n",
              "\n",
              "    .dataframe tbody tr th {\n",
              "        vertical-align: top;\n",
              "    }\n",
              "\n",
              "    .dataframe thead th {\n",
              "        text-align: right;\n",
              "    }\n",
              "</style>\n",
              "<table border=\"1\" class=\"dataframe\">\n",
              "  <thead>\n",
              "    <tr style=\"text-align: right;\">\n",
              "      <th></th>\n",
              "      <th>Skewness</th>\n",
              "    </tr>\n",
              "  </thead>\n",
              "  <tbody>\n",
              "    <tr>\n",
              "      <th>ethnicity</th>\n",
              "      <td>1.948340</td>\n",
              "    </tr>\n",
              "    <tr>\n",
              "      <th>union</th>\n",
              "      <td>1.661882</td>\n",
              "    </tr>\n",
              "    <tr>\n",
              "      <th>wage</th>\n",
              "      <td>1.275900</td>\n",
              "    </tr>\n",
              "    <tr>\n",
              "      <th>region</th>\n",
              "      <td>0.908378</td>\n",
              "    </tr>\n",
              "    <tr>\n",
              "      <th>ClustCateg</th>\n",
              "      <td>0.763568</td>\n",
              "    </tr>\n",
              "    <tr>\n",
              "      <th>experience</th>\n",
              "      <td>0.684396</td>\n",
              "    </tr>\n",
              "    <tr>\n",
              "      <th>age</th>\n",
              "      <td>0.543741</td>\n",
              "    </tr>\n",
              "    <tr>\n",
              "      <th>education</th>\n",
              "      <td>-0.087945</td>\n",
              "    </tr>\n",
              "    <tr>\n",
              "      <th>gender</th>\n",
              "      <td>-0.165982</td>\n",
              "    </tr>\n",
              "    <tr>\n",
              "      <th>occupation</th>\n",
              "      <td>-0.393042</td>\n",
              "    </tr>\n",
              "  </tbody>\n",
              "</table>\n",
              "</div>"
            ],
            "text/plain": [
              "            Skewness\n",
              "ethnicity   1.948340\n",
              "union       1.661882\n",
              "wage        1.275900\n",
              "region      0.908378\n",
              "ClustCateg  0.763568\n",
              "experience  0.684396\n",
              "age         0.543741\n",
              "education  -0.087945\n",
              "gender     -0.165982\n",
              "occupation -0.393042"
            ]
          },
          "metadata": {
            "tags": []
          },
          "execution_count": 142
        }
      ]
    },
    {
      "cell_type": "code",
      "metadata": {
        "id": "Mg-MBiZgUb5T"
      },
      "source": [
        "from numpy import corrcoef, transpose, arange\n",
        "df1 = transpose(df1)"
      ],
      "execution_count": 143,
      "outputs": []
    },
    {
      "cell_type": "code",
      "metadata": {
        "id": "Z_2wzA-JVRZ1",
        "outputId": "ed9c5cfb-c0dc-424a-b2ab-3951ac364fa2",
        "colab": {
          "base_uri": "https://localhost:8080/",
          "height": 244
        }
      },
      "source": [
        "df1.head()"
      ],
      "execution_count": 144,
      "outputs": [
        {
          "output_type": "execute_result",
          "data": {
            "text/html": [
              "<div>\n",
              "<style scoped>\n",
              "    .dataframe tbody tr th:only-of-type {\n",
              "        vertical-align: middle;\n",
              "    }\n",
              "\n",
              "    .dataframe tbody tr th {\n",
              "        vertical-align: top;\n",
              "    }\n",
              "\n",
              "    .dataframe thead th {\n",
              "        text-align: right;\n",
              "    }\n",
              "</style>\n",
              "<table border=\"1\" class=\"dataframe\">\n",
              "  <thead>\n",
              "    <tr style=\"text-align: right;\">\n",
              "      <th></th>\n",
              "      <th>0</th>\n",
              "      <th>1</th>\n",
              "      <th>2</th>\n",
              "      <th>3</th>\n",
              "      <th>4</th>\n",
              "      <th>5</th>\n",
              "      <th>6</th>\n",
              "      <th>7</th>\n",
              "      <th>8</th>\n",
              "      <th>9</th>\n",
              "      <th>10</th>\n",
              "      <th>11</th>\n",
              "      <th>12</th>\n",
              "      <th>13</th>\n",
              "      <th>14</th>\n",
              "      <th>15</th>\n",
              "      <th>16</th>\n",
              "      <th>17</th>\n",
              "      <th>18</th>\n",
              "      <th>19</th>\n",
              "      <th>20</th>\n",
              "      <th>21</th>\n",
              "      <th>22</th>\n",
              "      <th>23</th>\n",
              "      <th>24</th>\n",
              "      <th>25</th>\n",
              "      <th>26</th>\n",
              "      <th>27</th>\n",
              "      <th>28</th>\n",
              "      <th>29</th>\n",
              "      <th>30</th>\n",
              "      <th>31</th>\n",
              "      <th>32</th>\n",
              "      <th>33</th>\n",
              "      <th>34</th>\n",
              "      <th>35</th>\n",
              "      <th>36</th>\n",
              "      <th>37</th>\n",
              "      <th>38</th>\n",
              "      <th>39</th>\n",
              "      <th>...</th>\n",
              "      <th>494</th>\n",
              "      <th>495</th>\n",
              "      <th>496</th>\n",
              "      <th>497</th>\n",
              "      <th>498</th>\n",
              "      <th>499</th>\n",
              "      <th>500</th>\n",
              "      <th>501</th>\n",
              "      <th>502</th>\n",
              "      <th>503</th>\n",
              "      <th>504</th>\n",
              "      <th>505</th>\n",
              "      <th>506</th>\n",
              "      <th>507</th>\n",
              "      <th>508</th>\n",
              "      <th>509</th>\n",
              "      <th>510</th>\n",
              "      <th>511</th>\n",
              "      <th>512</th>\n",
              "      <th>513</th>\n",
              "      <th>514</th>\n",
              "      <th>515</th>\n",
              "      <th>516</th>\n",
              "      <th>517</th>\n",
              "      <th>518</th>\n",
              "      <th>519</th>\n",
              "      <th>520</th>\n",
              "      <th>521</th>\n",
              "      <th>522</th>\n",
              "      <th>523</th>\n",
              "      <th>524</th>\n",
              "      <th>525</th>\n",
              "      <th>526</th>\n",
              "      <th>527</th>\n",
              "      <th>528</th>\n",
              "      <th>529</th>\n",
              "      <th>530</th>\n",
              "      <th>531</th>\n",
              "      <th>532</th>\n",
              "      <th>533</th>\n",
              "    </tr>\n",
              "  </thead>\n",
              "  <tbody>\n",
              "    <tr>\n",
              "      <th>wage</th>\n",
              "      <td>5.1</td>\n",
              "      <td>4.95</td>\n",
              "      <td>6.67</td>\n",
              "      <td>4.0</td>\n",
              "      <td>7.5</td>\n",
              "      <td>13.07</td>\n",
              "      <td>4.45</td>\n",
              "      <td>19.47</td>\n",
              "      <td>13.28</td>\n",
              "      <td>8.75</td>\n",
              "      <td>11.35</td>\n",
              "      <td>11.5</td>\n",
              "      <td>6.5</td>\n",
              "      <td>6.25</td>\n",
              "      <td>19.98</td>\n",
              "      <td>7.3</td>\n",
              "      <td>8.0</td>\n",
              "      <td>22.2</td>\n",
              "      <td>3.65</td>\n",
              "      <td>20.55</td>\n",
              "      <td>5.71</td>\n",
              "      <td>7.0</td>\n",
              "      <td>3.75</td>\n",
              "      <td>4.5</td>\n",
              "      <td>9.56</td>\n",
              "      <td>5.75</td>\n",
              "      <td>9.36</td>\n",
              "      <td>6.5</td>\n",
              "      <td>3.35</td>\n",
              "      <td>4.75</td>\n",
              "      <td>8.9</td>\n",
              "      <td>4.0</td>\n",
              "      <td>4.7</td>\n",
              "      <td>5.0</td>\n",
              "      <td>9.25</td>\n",
              "      <td>10.67</td>\n",
              "      <td>7.61</td>\n",
              "      <td>10.0</td>\n",
              "      <td>7.5</td>\n",
              "      <td>12.2</td>\n",
              "      <td>...</td>\n",
              "      <td>24.98</td>\n",
              "      <td>11.25</td>\n",
              "      <td>22.83</td>\n",
              "      <td>10.2</td>\n",
              "      <td>10.0</td>\n",
              "      <td>14.0</td>\n",
              "      <td>12.5</td>\n",
              "      <td>5.79</td>\n",
              "      <td>24.98</td>\n",
              "      <td>4.35</td>\n",
              "      <td>11.25</td>\n",
              "      <td>6.67</td>\n",
              "      <td>8.0</td>\n",
              "      <td>18.16</td>\n",
              "      <td>12.0</td>\n",
              "      <td>8.89</td>\n",
              "      <td>9.5</td>\n",
              "      <td>13.65</td>\n",
              "      <td>12.0</td>\n",
              "      <td>15.0</td>\n",
              "      <td>12.67</td>\n",
              "      <td>7.38</td>\n",
              "      <td>15.56</td>\n",
              "      <td>7.45</td>\n",
              "      <td>6.25</td>\n",
              "      <td>6.25</td>\n",
              "      <td>9.37</td>\n",
              "      <td>22.5</td>\n",
              "      <td>7.5</td>\n",
              "      <td>7.0</td>\n",
              "      <td>5.75</td>\n",
              "      <td>7.67</td>\n",
              "      <td>12.5</td>\n",
              "      <td>16.0</td>\n",
              "      <td>11.79</td>\n",
              "      <td>11.36</td>\n",
              "      <td>6.1</td>\n",
              "      <td>23.25</td>\n",
              "      <td>19.88</td>\n",
              "      <td>15.38</td>\n",
              "    </tr>\n",
              "    <tr>\n",
              "      <th>education</th>\n",
              "      <td>8.0</td>\n",
              "      <td>9.00</td>\n",
              "      <td>12.00</td>\n",
              "      <td>12.0</td>\n",
              "      <td>12.0</td>\n",
              "      <td>13.00</td>\n",
              "      <td>10.00</td>\n",
              "      <td>12.00</td>\n",
              "      <td>16.00</td>\n",
              "      <td>12.00</td>\n",
              "      <td>12.00</td>\n",
              "      <td>12.0</td>\n",
              "      <td>8.0</td>\n",
              "      <td>9.00</td>\n",
              "      <td>9.00</td>\n",
              "      <td>12.0</td>\n",
              "      <td>7.0</td>\n",
              "      <td>12.0</td>\n",
              "      <td>11.00</td>\n",
              "      <td>12.00</td>\n",
              "      <td>12.00</td>\n",
              "      <td>7.0</td>\n",
              "      <td>12.00</td>\n",
              "      <td>11.0</td>\n",
              "      <td>12.00</td>\n",
              "      <td>6.00</td>\n",
              "      <td>12.00</td>\n",
              "      <td>10.0</td>\n",
              "      <td>12.00</td>\n",
              "      <td>12.00</td>\n",
              "      <td>14.0</td>\n",
              "      <td>12.0</td>\n",
              "      <td>8.0</td>\n",
              "      <td>17.0</td>\n",
              "      <td>12.00</td>\n",
              "      <td>12.00</td>\n",
              "      <td>12.00</td>\n",
              "      <td>12.0</td>\n",
              "      <td>12.0</td>\n",
              "      <td>14.0</td>\n",
              "      <td>...</td>\n",
              "      <td>16.00</td>\n",
              "      <td>15.00</td>\n",
              "      <td>18.00</td>\n",
              "      <td>17.0</td>\n",
              "      <td>16.0</td>\n",
              "      <td>18.0</td>\n",
              "      <td>17.0</td>\n",
              "      <td>12.00</td>\n",
              "      <td>17.00</td>\n",
              "      <td>12.00</td>\n",
              "      <td>17.00</td>\n",
              "      <td>16.00</td>\n",
              "      <td>16.0</td>\n",
              "      <td>18.00</td>\n",
              "      <td>16.0</td>\n",
              "      <td>16.00</td>\n",
              "      <td>17.0</td>\n",
              "      <td>16.00</td>\n",
              "      <td>18.0</td>\n",
              "      <td>12.0</td>\n",
              "      <td>16.00</td>\n",
              "      <td>14.00</td>\n",
              "      <td>16.00</td>\n",
              "      <td>12.00</td>\n",
              "      <td>14.00</td>\n",
              "      <td>16.00</td>\n",
              "      <td>17.00</td>\n",
              "      <td>16.0</td>\n",
              "      <td>16.0</td>\n",
              "      <td>17.0</td>\n",
              "      <td>9.00</td>\n",
              "      <td>15.00</td>\n",
              "      <td>15.0</td>\n",
              "      <td>12.0</td>\n",
              "      <td>16.00</td>\n",
              "      <td>18.00</td>\n",
              "      <td>12.0</td>\n",
              "      <td>17.00</td>\n",
              "      <td>12.00</td>\n",
              "      <td>16.00</td>\n",
              "    </tr>\n",
              "    <tr>\n",
              "      <th>experience</th>\n",
              "      <td>21.0</td>\n",
              "      <td>42.00</td>\n",
              "      <td>1.00</td>\n",
              "      <td>4.0</td>\n",
              "      <td>17.0</td>\n",
              "      <td>9.00</td>\n",
              "      <td>27.00</td>\n",
              "      <td>9.00</td>\n",
              "      <td>11.00</td>\n",
              "      <td>9.00</td>\n",
              "      <td>17.00</td>\n",
              "      <td>19.0</td>\n",
              "      <td>27.0</td>\n",
              "      <td>30.00</td>\n",
              "      <td>29.00</td>\n",
              "      <td>37.0</td>\n",
              "      <td>44.0</td>\n",
              "      <td>26.0</td>\n",
              "      <td>16.00</td>\n",
              "      <td>33.00</td>\n",
              "      <td>16.00</td>\n",
              "      <td>42.0</td>\n",
              "      <td>9.00</td>\n",
              "      <td>14.0</td>\n",
              "      <td>23.00</td>\n",
              "      <td>45.00</td>\n",
              "      <td>8.00</td>\n",
              "      <td>30.0</td>\n",
              "      <td>8.00</td>\n",
              "      <td>8.00</td>\n",
              "      <td>13.0</td>\n",
              "      <td>46.0</td>\n",
              "      <td>19.0</td>\n",
              "      <td>1.0</td>\n",
              "      <td>19.00</td>\n",
              "      <td>36.00</td>\n",
              "      <td>20.00</td>\n",
              "      <td>35.0</td>\n",
              "      <td>3.0</td>\n",
              "      <td>10.0</td>\n",
              "      <td>...</td>\n",
              "      <td>5.00</td>\n",
              "      <td>5.00</td>\n",
              "      <td>37.00</td>\n",
              "      <td>26.0</td>\n",
              "      <td>4.0</td>\n",
              "      <td>31.0</td>\n",
              "      <td>13.0</td>\n",
              "      <td>42.00</td>\n",
              "      <td>18.00</td>\n",
              "      <td>3.00</td>\n",
              "      <td>10.00</td>\n",
              "      <td>10.00</td>\n",
              "      <td>17.0</td>\n",
              "      <td>7.00</td>\n",
              "      <td>14.0</td>\n",
              "      <td>22.00</td>\n",
              "      <td>14.0</td>\n",
              "      <td>11.00</td>\n",
              "      <td>23.0</td>\n",
              "      <td>39.0</td>\n",
              "      <td>15.00</td>\n",
              "      <td>15.00</td>\n",
              "      <td>10.00</td>\n",
              "      <td>25.00</td>\n",
              "      <td>12.00</td>\n",
              "      <td>7.00</td>\n",
              "      <td>7.00</td>\n",
              "      <td>17.0</td>\n",
              "      <td>10.0</td>\n",
              "      <td>2.0</td>\n",
              "      <td>34.00</td>\n",
              "      <td>11.00</td>\n",
              "      <td>10.0</td>\n",
              "      <td>12.0</td>\n",
              "      <td>6.00</td>\n",
              "      <td>5.00</td>\n",
              "      <td>33.0</td>\n",
              "      <td>25.00</td>\n",
              "      <td>13.00</td>\n",
              "      <td>33.00</td>\n",
              "    </tr>\n",
              "    <tr>\n",
              "      <th>age</th>\n",
              "      <td>35.0</td>\n",
              "      <td>57.00</td>\n",
              "      <td>19.00</td>\n",
              "      <td>22.0</td>\n",
              "      <td>35.0</td>\n",
              "      <td>28.00</td>\n",
              "      <td>43.00</td>\n",
              "      <td>27.00</td>\n",
              "      <td>33.00</td>\n",
              "      <td>27.00</td>\n",
              "      <td>35.00</td>\n",
              "      <td>37.0</td>\n",
              "      <td>41.0</td>\n",
              "      <td>45.00</td>\n",
              "      <td>44.00</td>\n",
              "      <td>55.0</td>\n",
              "      <td>57.0</td>\n",
              "      <td>44.0</td>\n",
              "      <td>33.00</td>\n",
              "      <td>51.00</td>\n",
              "      <td>34.00</td>\n",
              "      <td>55.0</td>\n",
              "      <td>27.00</td>\n",
              "      <td>31.0</td>\n",
              "      <td>41.00</td>\n",
              "      <td>57.00</td>\n",
              "      <td>26.00</td>\n",
              "      <td>46.0</td>\n",
              "      <td>26.00</td>\n",
              "      <td>26.00</td>\n",
              "      <td>33.0</td>\n",
              "      <td>64.0</td>\n",
              "      <td>33.0</td>\n",
              "      <td>24.0</td>\n",
              "      <td>37.00</td>\n",
              "      <td>54.00</td>\n",
              "      <td>38.00</td>\n",
              "      <td>53.0</td>\n",
              "      <td>21.0</td>\n",
              "      <td>30.0</td>\n",
              "      <td>...</td>\n",
              "      <td>27.00</td>\n",
              "      <td>26.00</td>\n",
              "      <td>61.00</td>\n",
              "      <td>49.0</td>\n",
              "      <td>26.0</td>\n",
              "      <td>55.0</td>\n",
              "      <td>36.0</td>\n",
              "      <td>60.00</td>\n",
              "      <td>41.00</td>\n",
              "      <td>21.00</td>\n",
              "      <td>33.00</td>\n",
              "      <td>32.00</td>\n",
              "      <td>39.0</td>\n",
              "      <td>31.00</td>\n",
              "      <td>36.0</td>\n",
              "      <td>44.00</td>\n",
              "      <td>37.0</td>\n",
              "      <td>33.00</td>\n",
              "      <td>47.0</td>\n",
              "      <td>57.0</td>\n",
              "      <td>37.00</td>\n",
              "      <td>35.00</td>\n",
              "      <td>32.00</td>\n",
              "      <td>43.00</td>\n",
              "      <td>32.00</td>\n",
              "      <td>29.00</td>\n",
              "      <td>30.00</td>\n",
              "      <td>39.0</td>\n",
              "      <td>32.0</td>\n",
              "      <td>25.0</td>\n",
              "      <td>49.00</td>\n",
              "      <td>32.00</td>\n",
              "      <td>31.0</td>\n",
              "      <td>30.0</td>\n",
              "      <td>28.00</td>\n",
              "      <td>29.00</td>\n",
              "      <td>51.0</td>\n",
              "      <td>48.00</td>\n",
              "      <td>31.00</td>\n",
              "      <td>55.00</td>\n",
              "    </tr>\n",
              "    <tr>\n",
              "      <th>ethnicity</th>\n",
              "      <td>1.0</td>\n",
              "      <td>0.00</td>\n",
              "      <td>0.00</td>\n",
              "      <td>0.0</td>\n",
              "      <td>0.0</td>\n",
              "      <td>0.00</td>\n",
              "      <td>0.00</td>\n",
              "      <td>0.00</td>\n",
              "      <td>0.00</td>\n",
              "      <td>0.00</td>\n",
              "      <td>0.00</td>\n",
              "      <td>0.0</td>\n",
              "      <td>0.0</td>\n",
              "      <td>0.00</td>\n",
              "      <td>0.00</td>\n",
              "      <td>0.0</td>\n",
              "      <td>0.0</td>\n",
              "      <td>0.0</td>\n",
              "      <td>0.00</td>\n",
              "      <td>0.00</td>\n",
              "      <td>0.00</td>\n",
              "      <td>2.0</td>\n",
              "      <td>0.00</td>\n",
              "      <td>2.0</td>\n",
              "      <td>0.00</td>\n",
              "      <td>0.00</td>\n",
              "      <td>0.00</td>\n",
              "      <td>0.0</td>\n",
              "      <td>0.00</td>\n",
              "      <td>0.00</td>\n",
              "      <td>0.0</td>\n",
              "      <td>0.0</td>\n",
              "      <td>0.0</td>\n",
              "      <td>0.0</td>\n",
              "      <td>0.00</td>\n",
              "      <td>2.00</td>\n",
              "      <td>2.00</td>\n",
              "      <td>2.0</td>\n",
              "      <td>0.0</td>\n",
              "      <td>0.0</td>\n",
              "      <td>...</td>\n",
              "      <td>0.00</td>\n",
              "      <td>0.00</td>\n",
              "      <td>0.00</td>\n",
              "      <td>0.0</td>\n",
              "      <td>0.0</td>\n",
              "      <td>0.0</td>\n",
              "      <td>0.0</td>\n",
              "      <td>0.00</td>\n",
              "      <td>1.00</td>\n",
              "      <td>0.00</td>\n",
              "      <td>0.00</td>\n",
              "      <td>0.00</td>\n",
              "      <td>1.0</td>\n",
              "      <td>0.00</td>\n",
              "      <td>0.0</td>\n",
              "      <td>0.00</td>\n",
              "      <td>0.0</td>\n",
              "      <td>0.00</td>\n",
              "      <td>0.0</td>\n",
              "      <td>0.0</td>\n",
              "      <td>0.00</td>\n",
              "      <td>1.00</td>\n",
              "      <td>0.00</td>\n",
              "      <td>0.00</td>\n",
              "      <td>0.00</td>\n",
              "      <td>1.00</td>\n",
              "      <td>0.00</td>\n",
              "      <td>0.0</td>\n",
              "      <td>0.0</td>\n",
              "      <td>0.0</td>\n",
              "      <td>2.00</td>\n",
              "      <td>0.00</td>\n",
              "      <td>0.0</td>\n",
              "      <td>0.0</td>\n",
              "      <td>0.00</td>\n",
              "      <td>0.00</td>\n",
              "      <td>2.0</td>\n",
              "      <td>2.00</td>\n",
              "      <td>0.00</td>\n",
              "      <td>0.00</td>\n",
              "    </tr>\n",
              "  </tbody>\n",
              "</table>\n",
              "<p>5 rows × 532 columns</p>\n",
              "</div>"
            ],
            "text/plain": [
              "             0      1      2     3     4    ...    529   530    531    532    533\n",
              "wage         5.1   4.95   6.67   4.0   7.5  ...  11.36   6.1  23.25  19.88  15.38\n",
              "education    8.0   9.00  12.00  12.0  12.0  ...  18.00  12.0  17.00  12.00  16.00\n",
              "experience  21.0  42.00   1.00   4.0  17.0  ...   5.00  33.0  25.00  13.00  33.00\n",
              "age         35.0  57.00  19.00  22.0  35.0  ...  29.00  51.0  48.00  31.00  55.00\n",
              "ethnicity    1.0   0.00   0.00   0.0   0.0  ...   0.00   2.0   2.00   0.00   0.00\n",
              "\n",
              "[5 rows x 532 columns]"
            ]
          },
          "metadata": {
            "tags": []
          },
          "execution_count": 144
        }
      ]
    },
    {
      "cell_type": "code",
      "metadata": {
        "id": "RN-4n-BQUEpO"
      },
      "source": [
        "names = df1.index"
      ],
      "execution_count": 145,
      "outputs": []
    },
    {
      "cell_type": "code",
      "metadata": {
        "id": "tK5iS4WgUJ1B",
        "outputId": "7000dced-d7f1-4af1-a3e2-d1ad42acb64b",
        "colab": {
          "base_uri": "https://localhost:8080/",
          "height": 608
        }
      },
      "source": [
        "#https://docs.scipy.org/doc/numpy/reference/generated/numpy.corrcoef.html\n",
        "R = np.corrcoef(df1)\n",
        "\n",
        "# http://stanford.edu/~mwaskom/software/seaborn/examples/many_pairwise_correlations.html\n",
        "# Generate a mask for the upper triangle\n",
        "sns.set(style=\"white\")\n",
        "mask = np.zeros_like(R, dtype=np.bool)\n",
        "mask[np.triu_indices_from(mask)] = True\n",
        "\n",
        "# Set up the matplotlib figure\n",
        "f, ax = plt.subplots(figsize=(11, 9))\n",
        "\n",
        "# Generate a custom diverging colormap\n",
        "cmap = sns.diverging_palette(200, 11, as_cmap=True)\n",
        "\n",
        "# Draw the heatmap with the mask and correct aspect ratio\n",
        "sns.heatmap(R, mask=mask, cmap=cmap, vmax=.11,\n",
        "            square=True, xticklabels=names, yticklabels=names,\n",
        "            linewidths=.5, cbar_kws={\"shrink\": .5}, ax=ax)"
      ],
      "execution_count": 146,
      "outputs": [
        {
          "output_type": "execute_result",
          "data": {
            "text/plain": [
              "<matplotlib.axes._subplots.AxesSubplot at 0x7f96b7affdd8>"
            ]
          },
          "metadata": {
            "tags": []
          },
          "execution_count": 146
        },
        {
          "output_type": "display_data",
          "data": {
            "image/png": "[encoded data removed]",
            "text/plain": [
              "<Figure size 792x648 with 2 Axes>"
            ]
          },
          "metadata": {
            "tags": []
          }
        }
      ]
    },
    {
      "cell_type": "code",
      "metadata": {
        "id": "_OnN_-iFWXFf"
      },
      "source": [
        "df1 = transpose(df1)"
      ],
      "execution_count": 147,
      "outputs": []
    },
    {
      "cell_type": "markdown",
      "metadata": {
        "id": "XA5rInK8V-KZ"
      },
      "source": [
        "VER VARIABLES\n"
      ]
    },
    {
      "cell_type": "code",
      "metadata": {
        "id": "dxEv-9jiVox1",
        "outputId": "793bf861-20bf-4be1-a440-d67e532d7a42",
        "colab": {
          "base_uri": "https://localhost:8080/",
          "height": 374
        }
      },
      "source": [
        "# import modules\n",
        "import numpy as np\n",
        "from scipy import stats\n",
        "from sklearn.model_selection import train_test_split\n",
        "\n",
        "# plotting modules\n",
        "import seaborn as sns\n",
        "import matplotlib.pyplot as plt\n",
        "\n",
        "# generate non-normal data\n",
        "original_data = df1[\"wage\"]\n",
        "# split into testing & training data\n",
        "train,test = train_test_split(original_data, shuffle=False)\n",
        "\n",
        "# transform training data & save lambda value\n",
        "train_data,fitted_lambda = stats.boxcox(train)\n",
        "\n",
        "# use lambda value to transform test data\n",
        "test_data = stats.boxcox(test, fitted_lambda)\n",
        "\n",
        "# (optional) plot train & test\n",
        "fig, ax=plt.subplots(1,2)\n",
        "sns.distplot(train_data, ax=ax[0])\n",
        "sns.distplot(test_data, ax=ax[1])"
      ],
      "execution_count": 149,
      "outputs": [
        {
          "output_type": "stream",
          "text": [
            "/usr/local/lib/python3.6/dist-packages/seaborn/distributions.py:2551: FutureWarning: `distplot` is a deprecated function and will be removed in a future version. Please adapt your code to use either `displot` (a figure-level function with similar flexibility) or `histplot` (an axes-level function for histograms).\n",
            "  warnings.warn(msg, FutureWarning)\n",
            "/usr/local/lib/python3.6/dist-packages/seaborn/distributions.py:2551: FutureWarning: `distplot` is a deprecated function and will be removed in a future version. Please adapt your code to use either `displot` (a figure-level function with similar flexibility) or `histplot` (an axes-level function for histograms).\n",
            "  warnings.warn(msg, FutureWarning)\n"
          ],
          "name": "stderr"
        },
        {
          "output_type": "execute_result",
          "data": {
            "text/plain": [
              "<matplotlib.axes._subplots.AxesSubplot at 0x7f96b79fb1d0>"
            ]
          },
          "metadata": {
            "tags": []
          },
          "execution_count": 149
        },
        {
          "output_type": "display_data",
          "data": {
            "image/png": "[encoded data removed]",
            "text/plain": [
              "<Figure size 432x288 with 2 Axes>"
            ]
          },
          "metadata": {
            "tags": []
          }
        }
      ]
    },
    {
      "cell_type": "markdown",
      "metadata": {
        "id": "kgs1BobrmTO6"
      },
      "source": [
        "RANDOM FOREST"
      ]
    },
    {
      "cell_type": "code",
      "metadata": {
        "id": "-UmV5laJ7ryS"
      },
      "source": [
        "# Use numpy to convert to arrays\n",
        "import numpy as np\n",
        "# Labels are the values we want to predict\n",
        "labels = np.array(df1['wage'])\n",
        "# Remove the labels from the features\n",
        "# axis 1 refers to the columns\n",
        "features= df1.drop('wage', axis = 1)\n",
        "# Saving feature names for later use\n",
        "feature_list = list(features.columns)\n",
        "# Convert to numpy array\n",
        "features = np.array(features)"
      ],
      "execution_count": 212,
      "outputs": []
    },
    {
      "cell_type": "code",
      "metadata": {
        "id": "OLXlXfBb4fwR",
        "outputId": "0f317548-b6a7-4c59-89e6-abb207d88440",
        "colab": {
          "base_uri": "https://localhost:8080/",
          "height": 34
        }
      },
      "source": [
        "print(feature_list)"
      ],
      "execution_count": 213,
      "outputs": [
        {
          "output_type": "stream",
          "text": [
            "['education', 'experience', 'age', 'ethnicity', 'region', 'gender', 'occupation', 'sector', 'union', 'married', 'ClustCateg']\n"
          ],
          "name": "stdout"
        }
      ]
    },
    {
      "cell_type": "code",
      "metadata": {
        "id": "CKu2eDZDjOaX"
      },
      "source": [
        "# Using Skicit-learn to split data into training and testing sets\n",
        "from sklearn.model_selection import train_test_split\n",
        "\n",
        "# Split the data into training and testing sets\n",
        "train_features, test_features, train_labels, test_labels = train_test_split(features, labels, test_size = 0.25,\n",
        "                                                                           random_state = 39)"
      ],
      "execution_count": 210,
      "outputs": []
    },
    {
      "cell_type": "code",
      "metadata": {
        "id": "txb3xQV-nLVX",
        "outputId": "f625fc5d-fbf7-4ee2-ce79-64199759c6fd",
        "colab": {
          "base_uri": "https://localhost:8080/",
          "height": 84
        }
      },
      "source": [
        "print('Training Features Shape:', train_features.shape)\n",
        "print('Training Labels Shape:', train_labels.shape)\n",
        "print('Testing Features Shape:', test_features.shape)\n",
        "print('Testing Labels Shape:', test_labels.shape)"
      ],
      "execution_count": 211,
      "outputs": [
        {
          "output_type": "stream",
          "text": [
            "Training Features Shape: (399, 11)\n",
            "Training Labels Shape: (399,)\n",
            "Testing Features Shape: (133, 11)\n",
            "Testing Labels Shape: (133,)\n"
          ],
          "name": "stdout"
        }
      ]
    },
    {
      "cell_type": "markdown",
      "metadata": {
        "id": "5hQvMYlXnTdZ"
      },
      "source": [
        "BASELINE"
      ]
    },
    {
      "cell_type": "code",
      "metadata": {
        "id": "zw1d73IjnVWy",
        "outputId": "12415544-dd6c-4d37-c500-1a57d51e09f7",
        "colab": {
          "base_uri": "https://localhost:8080/",
          "height": 34
        }
      },
      "source": [
        "# The baseline predictions are the historical averages\n",
        "baseline_preds = test_features[:, feature_list.index('ClustCateg')]\n",
        "\n",
        "# Baseline errors, and display average baseline error\n",
        "baseline_errors = abs(baseline_preds - test_labels)\n",
        "print('Average baseline error: ', round(np.mean(baseline_errors), 2), 'degrees.')"
      ],
      "execution_count": 215,
      "outputs": [
        {
          "output_type": "stream",
          "text": [
            "Average baseline error:  7.53 degrees.\n"
          ],
          "name": "stdout"
        }
      ]
    },
    {
      "cell_type": "markdown",
      "metadata": {
        "id": "OHyYPjN4oLja"
      },
      "source": [
        "Training"
      ]
    },
    {
      "cell_type": "code",
      "metadata": {
        "id": "H6qRLrZfnWNm"
      },
      "source": [
        "# Import the model we are using\n",
        "from sklearn.ensemble import RandomForestRegressor\n",
        "\n",
        "# Instantiate model \n",
        "rf = RandomForestRegressor(n_estimators= 1000, random_state=39)\n",
        "\n",
        "# Train the model on training data\n",
        "rf.fit(train_features, train_labels);"
      ],
      "execution_count": 205,
      "outputs": []
    },
    {
      "cell_type": "markdown",
      "metadata": {
        "id": "4t-20RuioH_D"
      },
      "source": [
        "Predicc"
      ]
    },
    {
      "cell_type": "code",
      "metadata": {
        "id": "Q8BpD8y7oKAM",
        "outputId": "ced40943-767b-42fd-d5c5-d50ba03bfac2",
        "colab": {
          "base_uri": "https://localhost:8080/",
          "height": 34
        }
      },
      "source": [
        "# Use the forest's predict method on the test data\n",
        "predictions = rf.predict(test_features)\n",
        "\n",
        "# Calculate the absolute errors\n",
        "errors = abs(predictions - test_labels)\n",
        "\n",
        "# Print out the mean absolute error (mae)\n",
        "print('Mean Absolute Error:', round(np.mean(errors), 2), 'degrees.')"
      ],
      "execution_count": 206,
      "outputs": [
        {
          "output_type": "stream",
          "text": [
            "Mean Absolute Error: 3.32 degrees.\n"
          ],
          "name": "stdout"
        }
      ]
    },
    {
      "cell_type": "code",
      "metadata": {
        "id": "RbYS_CEroQTT",
        "outputId": "bbcdbdd4-24c4-4757-ba6b-a9bed04426dd",
        "colab": {
          "base_uri": "https://localhost:8080/",
          "height": 34
        }
      },
      "source": [
        "# Calculate mean absolute percentage error (MAPE)\n",
        "mape = 100 * (errors / test_labels)\n",
        "\n",
        "# Calculate and display accuracy\n",
        "accuracy = 100 - np.mean(mape)\n",
        "print('Accuracy:', round(accuracy, 2), '%.')"
      ],
      "execution_count": 207,
      "outputs": [
        {
          "output_type": "stream",
          "text": [
            "Accuracy: 59.17 %.\n"
          ],
          "name": "stdout"
        }
      ]
    },
    {
      "cell_type": "code",
      "metadata": {
        "id": "iHXol6shol1P"
      },
      "source": [
        "# Import tools needed for visualization\n",
        "from sklearn.tree import export_graphviz\n",
        "import pydot\n",
        "\n",
        "# Pull out one tree from the forest\n",
        "tree = rf.estimators_[5]\n",
        "\n",
        "# Export the image to a dot file\n",
        "export_graphviz(tree, out_file = 'tree.dot', feature_names = None, rounded = True, precision = 1)\n",
        "\n",
        "# Use dot file to create a graph\n",
        "(graph, ) = pydot.graph_from_dot_file('tree.dot')\n",
        "\n",
        "# Write graph to a png file\n",
        "graph.write_png('tree.png'); "
      ],
      "execution_count": 171,
      "outputs": []
    },
    {
      "cell_type": "code",
      "metadata": {
        "id": "Q2yu7C8frq8K"
      },
      "source": [
        "# Limit depth of tree to 3 levels\n",
        "rf_small = RandomForestRegressor(n_estimators=10, max_depth = 3)\n",
        "rf_small.fit(train_features, train_labels)\n",
        "# Extract the small tree\n",
        "tree_small = rf_small.estimators_[5]\n",
        "# Save the tree as a png image\n",
        "export_graphviz(tree_small, out_file = 'small_tree.dot', feature_names = None, rounded = True, precision = 1)\n",
        "(graph, ) = pydot.graph_from_dot_file('small_tree.dot')\n",
        "graph.write_png('small_tree.png');"
      ],
      "execution_count": 184,
      "outputs": []
    },
    {
      "cell_type": "code",
      "metadata": {
        "id": "5y7JY3_Hqq97",
        "outputId": "926c488f-1276-43f2-8356-be46de30e9c4",
        "colab": {
          "base_uri": "https://localhost:8080/",
          "height": 302
        }
      },
      "source": [
        "from sklearn.metrics import regression\n",
        "import sklearn.metrics\n",
        "from sklearn.ensemble import ExtraTreesClassifier\n",
        "\n",
        "print(rf.feature_importances_)\n",
        "from matplotlib import pyplot\n",
        "pyplot.bar(range(len(rf.feature_importances_)), rf.feature_importances_)\n",
        "pyplot.show()"
      ],
      "execution_count": 183,
      "outputs": [
        {
          "output_type": "stream",
          "text": [
            "[0.10168737 0.08598299 0.12406241 0.01903781 0.01747788 0.03742103\n",
            " 0.05237686 0.02057642 0.02857155 0.01827253 0.49453315]\n"
          ],
          "name": "stdout"
        },
        {
          "output_type": "display_data",
          "data": {
            "image/png": "[encoded data removed]",
            "text/plain": [
              "<Figure size 432x288 with 1 Axes>"
            ]
          },
          "metadata": {
            "tags": []
          }
        }
      ]
    },
    {
      "cell_type": "code",
      "metadata": {
        "id": "13Iak4Z62kq1",
        "outputId": "60bc9c9b-21cf-436b-a8e7-5ed604275f27",
        "colab": {
          "base_uri": "https://localhost:8080/",
          "height": 185
        }
      },
      "source": [
        "# Get numerical feature importances\n",
        "importances = list(rf.feature_importances_)\n",
        "# List of tuples with variable and importance\n",
        "feature_importances = [(feature, round(importance, 2)) for feature, importance in zip(feature_list, importances)]\n",
        "# Sort the feature importances by most important first\n",
        "feature_importances = sorted(feature_importances, key = lambda x: x[1], reverse = True)\n",
        "# Print out the feature and importances \n",
        "[print('Variable: {:20} Importance: {}'.format(*pair)) for pair in feature_importances];"
      ],
      "execution_count": 200,
      "outputs": [
        {
          "output_type": "stream",
          "text": [
            "Variable: age                  Importance: 0.12\n",
            "Variable: education            Importance: 0.1\n",
            "Variable: experience           Importance: 0.09\n",
            "Variable: occupation           Importance: 0.05\n",
            "Variable: gender               Importance: 0.04\n",
            "Variable: union                Importance: 0.03\n",
            "Variable: ethnicity            Importance: 0.02\n",
            "Variable: region               Importance: 0.02\n",
            "Variable: sector               Importance: 0.02\n",
            "Variable: married              Importance: 0.02\n"
          ],
          "name": "stdout"
        }
      ]
    },
    {
      "cell_type": "code",
      "metadata": {
        "id": "5J45u4dE4Sfj"
      },
      "source": [
        ""
      ],
      "execution_count": null,
      "outputs": []
    }
  ]
}